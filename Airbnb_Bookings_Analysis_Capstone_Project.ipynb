{
  "nbformat": 4,
  "nbformat_minor": 0,
  "metadata": {
    "colab": {
      "name": "Airbnb Bookings Analysis - Capstone Project.ipynb",
      "provenance": [],
      "authorship_tag": "ABX9TyOUDUlTz2jwzAAzzxV59ele",
      "include_colab_link": true
    },
    "kernelspec": {
      "name": "python3",
      "display_name": "Python 3"
    },
    "language_info": {
      "name": "python"
    }
  },
  "cells": [
    {
      "cell_type": "markdown",
      "metadata": {
        "id": "view-in-github",
        "colab_type": "text"
      },
      "source": [
        "<a href=\"https://colab.research.google.com/github/SARANYA-4411/airbnb-booking-analysis/blob/main/Airbnb_Bookings_Analysis_Capstone_Project.ipynb\" target=\"_parent\"><img src=\"https://colab.research.google.com/assets/colab-badge.svg\" alt=\"Open In Colab\"/></a>"
      ]
    },
    {
      "cell_type": "markdown",
      "source": [
        "Airbnb ,inc.is an American company that operates an online marketplace for lodging , primarily homestays for vacation rentals , and tourism activities . Airbnb to expand on traveling possibilities and present a more unique , personalized way of experiencing the world . Based in San Francisco, California, the platform is accessible via website and mobile app.\n",
        " "
      ],
      "metadata": {
        "id": "09fnX95F92FN"
      }
    },
    {
      "cell_type": "markdown",
      "source": [
        "![airbnb.jpg](data:image/jpeg;base64,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)"
      ],
      "metadata": {
        "id": "TavwjSQMVfPK"
      }
    },
    {
      "cell_type": "markdown",
      "source": [
        "Let's start ;\n",
        "\n",
        "Since 2008,  guests and hosts have used Airbnb to expand on traveling possibilities and present a more unique, personalized way of experiencing the world. Nowadays, Airbnb became one of a kind service that is used by the whole world. Data analysts become a crucial factor for the company that provided millions of listings through Airbnb. These listings generate a lot of data that can be analyzed  and used for security, business decisions, understanding of customers and providers behavior on the platform, implementing innovative additional services, guiding marketing initiatives, and much more."
      ],
      "metadata": {
        "id": "D6GxfdBJ_fvv"
      }
    },
    {
      "cell_type": "markdown",
      "source": [
        "This dataset has around 49000  observations with 16 columns and it is a mix between categorical and numeric values.\n",
        "\n",
        "\n",
        "Explore and analyze the data to discover key understandings (not limited to these) such as :\n",
        "What can we learn about different hosts and areas?\n",
        "What can we learn from predictions? (ex: locations, prices, reviews, etc)\n",
        "Which hosts are the busiest and why?\n",
        "Is there any noticeable difference of traffic among different areas and what could be the reason for it?"
      ],
      "metadata": {
        "id": "EJU9s62PAVY_"
      }
    },
    {
      "cell_type": "markdown",
      "source": [
        "Understand the problem. We'll look at each variable and do a philosophical analysis about their meaning and importance for this problem.\n",
        "\n",
        " We'll try to understand how the columns  variables relate , the categorical and numeric values.\n",
        "\n",
        "Basic cleaning. We'll clean the dataset and handle the missing data, and categorical variables.\n",
        "\n",
        "Test assumptions. We'll check if our data meets the assumptions required for analysis.\n",
        "Now, it's time to have fun!"
      ],
      "metadata": {
        "id": "baaYggzgoBmw"
      }
    },
    {
      "cell_type": "markdown",
      "source": [
        "**index**\n",
        "\n",
        " 1 Lets Invite Some Libraries \n",
        "\n",
        "2 Mounting our Drive.\n",
        "\n",
        "3 Time To Do Basic Examination.\n",
        "\n",
        "4 MOST NUMBER OF LISTING ,What Hosts And Areas are telling us?\n",
        "\n",
        "5 what can we learn from predictions \n",
        "\n",
        "6 price and listing\n",
        "\n",
        "7  find the Busiest Host.\n",
        "\n",
        "8  Most Popular Neighbourhoods and Neighbourhood Areas.\n",
        "\n",
        "9  Calculating The Difference Of Traffic Among Different Areas.\n",
        "\n",
        "10 Conclusion."
      ],
      "metadata": {
        "id": "Dh-MhBvGI4Cl"
      }
    },
    {
      "cell_type": "markdown",
      "source": [
        "# **# Mounting  Drive**"
      ],
      "metadata": {
        "id": "rChCrPiUJQVW"
      }
    },
    {
      "cell_type": "code",
      "source": [
        "from google.colab import drive\n",
        "drive.mount('/content/drive')"
      ],
      "metadata": {
        "colab": {
          "base_uri": "https://localhost:8080/"
        },
        "id": "J57T54bVA44G",
        "outputId": "db41e72a-6eee-4eeb-a020-4e787c7f4962"
      },
      "execution_count": 55,
      "outputs": [
        {
          "output_type": "stream",
          "name": "stdout",
          "text": [
            "Drive already mounted at /content/drive; to attempt to forcibly remount, call drive.mount(\"/content/drive\", force_remount=True).\n"
          ]
        }
      ]
    },
    {
      "cell_type": "markdown",
      "source": [
        "# **lets import libraries**"
      ],
      "metadata": {
        "id": "AgkQkj1QJWIy"
      }
    },
    {
      "cell_type": "code",
      "source": [
        "\n",
        "\n",
        "import pandas as pd\n",
        "import numpy as np\n",
        "import matplotlib.pyplot as plt\n",
        "\n",
        "%matplotlib inline\n",
        "import seaborn as sns\n"
      ],
      "metadata": {
        "id": "F0iMrwkrBcLY"
      },
      "execution_count": 56,
      "outputs": []
    },
    {
      "cell_type": "code",
      "source": [
        "df_air = pd.read_csv('/content/drive/MyDrive/Airbnb NYC 2019.csv')\n",
        "df_air"
      ],
      "metadata": {
        "colab": {
          "base_uri": "https://localhost:8080/",
          "height": 869
        },
        "id": "5Duh0NbCDUR6",
        "outputId": "eee28721-9edc-42e6-c232-61652b8bdc33"
      },
      "execution_count": 57,
      "outputs": [
        {
          "output_type": "execute_result",
          "data": {
            "text/plain": [
              "             id                                               name   host_id  \\\n",
              "0          2539                 Clean & quiet apt home by the park      2787   \n",
              "1          2595                              Skylit Midtown Castle      2845   \n",
              "2          3647                THE VILLAGE OF HARLEM....NEW YORK !      4632   \n",
              "3          3831                    Cozy Entire Floor of Brownstone      4869   \n",
              "4          5022   Entire Apt: Spacious Studio/Loft by central park      7192   \n",
              "...         ...                                                ...       ...   \n",
              "48890  36484665    Charming one bedroom - newly renovated rowhouse   8232441   \n",
              "48891  36485057      Affordable room in Bushwick/East Williamsburg   6570630   \n",
              "48892  36485431            Sunny Studio at Historical Neighborhood  23492952   \n",
              "48893  36485609               43rd St. Time Square-cozy single bed  30985759   \n",
              "48894  36487245  Trendy duplex in the very heart of Hell's Kitchen  68119814   \n",
              "\n",
              "           host_name neighbourhood_group       neighbourhood  latitude  \\\n",
              "0               John            Brooklyn          Kensington  40.64749   \n",
              "1           Jennifer           Manhattan             Midtown  40.75362   \n",
              "2          Elisabeth           Manhattan              Harlem  40.80902   \n",
              "3        LisaRoxanne            Brooklyn        Clinton Hill  40.68514   \n",
              "4              Laura           Manhattan         East Harlem  40.79851   \n",
              "...              ...                 ...                 ...       ...   \n",
              "48890        Sabrina            Brooklyn  Bedford-Stuyvesant  40.67853   \n",
              "48891        Marisol            Brooklyn            Bushwick  40.70184   \n",
              "48892  Ilgar & Aysel           Manhattan              Harlem  40.81475   \n",
              "48893            Taz           Manhattan      Hell's Kitchen  40.75751   \n",
              "48894     Christophe           Manhattan      Hell's Kitchen  40.76404   \n",
              "\n",
              "       longitude        room_type  price  minimum_nights  number_of_reviews  \\\n",
              "0      -73.97237     Private room    149               1                  9   \n",
              "1      -73.98377  Entire home/apt    225               1                 45   \n",
              "2      -73.94190     Private room    150               3                  0   \n",
              "3      -73.95976  Entire home/apt     89               1                270   \n",
              "4      -73.94399  Entire home/apt     80              10                  9   \n",
              "...          ...              ...    ...             ...                ...   \n",
              "48890  -73.94995     Private room     70               2                  0   \n",
              "48891  -73.93317     Private room     40               4                  0   \n",
              "48892  -73.94867  Entire home/apt    115              10                  0   \n",
              "48893  -73.99112      Shared room     55               1                  0   \n",
              "48894  -73.98933     Private room     90               7                  0   \n",
              "\n",
              "      last_review  reviews_per_month  calculated_host_listings_count  \\\n",
              "0      2018-10-19               0.21                               6   \n",
              "1      2019-05-21               0.38                               2   \n",
              "2             NaN                NaN                               1   \n",
              "3      2019-07-05               4.64                               1   \n",
              "4      2018-11-19               0.10                               1   \n",
              "...           ...                ...                             ...   \n",
              "48890         NaN                NaN                               2   \n",
              "48891         NaN                NaN                               2   \n",
              "48892         NaN                NaN                               1   \n",
              "48893         NaN                NaN                               6   \n",
              "48894         NaN                NaN                               1   \n",
              "\n",
              "       availability_365  \n",
              "0                   365  \n",
              "1                   355  \n",
              "2                   365  \n",
              "3                   194  \n",
              "4                     0  \n",
              "...                 ...  \n",
              "48890                 9  \n",
              "48891                36  \n",
              "48892                27  \n",
              "48893                 2  \n",
              "48894                23  \n",
              "\n",
              "[48895 rows x 16 columns]"
            ],
            "text/html": [
              "\n",
              "  <div id=\"df-25746b2f-be77-4ff8-b6bb-53bd92539403\">\n",
              "    <div class=\"colab-df-container\">\n",
              "      <div>\n",
              "<style scoped>\n",
              "    .dataframe tbody tr th:only-of-type {\n",
              "        vertical-align: middle;\n",
              "    }\n",
              "\n",
              "    .dataframe tbody tr th {\n",
              "        vertical-align: top;\n",
              "    }\n",
              "\n",
              "    .dataframe thead th {\n",
              "        text-align: right;\n",
              "    }\n",
              "</style>\n",
              "<table border=\"1\" class=\"dataframe\">\n",
              "  <thead>\n",
              "    <tr style=\"text-align: right;\">\n",
              "      <th></th>\n",
              "      <th>id</th>\n",
              "      <th>name</th>\n",
              "      <th>host_id</th>\n",
              "      <th>host_name</th>\n",
              "      <th>neighbourhood_group</th>\n",
              "      <th>neighbourhood</th>\n",
              "      <th>latitude</th>\n",
              "      <th>longitude</th>\n",
              "      <th>room_type</th>\n",
              "      <th>price</th>\n",
              "      <th>minimum_nights</th>\n",
              "      <th>number_of_reviews</th>\n",
              "      <th>last_review</th>\n",
              "      <th>reviews_per_month</th>\n",
              "      <th>calculated_host_listings_count</th>\n",
              "      <th>availability_365</th>\n",
              "    </tr>\n",
              "  </thead>\n",
              "  <tbody>\n",
              "    <tr>\n",
              "      <th>0</th>\n",
              "      <td>2539</td>\n",
              "      <td>Clean &amp; quiet apt home by the park</td>\n",
              "      <td>2787</td>\n",
              "      <td>John</td>\n",
              "      <td>Brooklyn</td>\n",
              "      <td>Kensington</td>\n",
              "      <td>40.64749</td>\n",
              "      <td>-73.97237</td>\n",
              "      <td>Private room</td>\n",
              "      <td>149</td>\n",
              "      <td>1</td>\n",
              "      <td>9</td>\n",
              "      <td>2018-10-19</td>\n",
              "      <td>0.21</td>\n",
              "      <td>6</td>\n",
              "      <td>365</td>\n",
              "    </tr>\n",
              "    <tr>\n",
              "      <th>1</th>\n",
              "      <td>2595</td>\n",
              "      <td>Skylit Midtown Castle</td>\n",
              "      <td>2845</td>\n",
              "      <td>Jennifer</td>\n",
              "      <td>Manhattan</td>\n",
              "      <td>Midtown</td>\n",
              "      <td>40.75362</td>\n",
              "      <td>-73.98377</td>\n",
              "      <td>Entire home/apt</td>\n",
              "      <td>225</td>\n",
              "      <td>1</td>\n",
              "      <td>45</td>\n",
              "      <td>2019-05-21</td>\n",
              "      <td>0.38</td>\n",
              "      <td>2</td>\n",
              "      <td>355</td>\n",
              "    </tr>\n",
              "    <tr>\n",
              "      <th>2</th>\n",
              "      <td>3647</td>\n",
              "      <td>THE VILLAGE OF HARLEM....NEW YORK !</td>\n",
              "      <td>4632</td>\n",
              "      <td>Elisabeth</td>\n",
              "      <td>Manhattan</td>\n",
              "      <td>Harlem</td>\n",
              "      <td>40.80902</td>\n",
              "      <td>-73.94190</td>\n",
              "      <td>Private room</td>\n",
              "      <td>150</td>\n",
              "      <td>3</td>\n",
              "      <td>0</td>\n",
              "      <td>NaN</td>\n",
              "      <td>NaN</td>\n",
              "      <td>1</td>\n",
              "      <td>365</td>\n",
              "    </tr>\n",
              "    <tr>\n",
              "      <th>3</th>\n",
              "      <td>3831</td>\n",
              "      <td>Cozy Entire Floor of Brownstone</td>\n",
              "      <td>4869</td>\n",
              "      <td>LisaRoxanne</td>\n",
              "      <td>Brooklyn</td>\n",
              "      <td>Clinton Hill</td>\n",
              "      <td>40.68514</td>\n",
              "      <td>-73.95976</td>\n",
              "      <td>Entire home/apt</td>\n",
              "      <td>89</td>\n",
              "      <td>1</td>\n",
              "      <td>270</td>\n",
              "      <td>2019-07-05</td>\n",
              "      <td>4.64</td>\n",
              "      <td>1</td>\n",
              "      <td>194</td>\n",
              "    </tr>\n",
              "    <tr>\n",
              "      <th>4</th>\n",
              "      <td>5022</td>\n",
              "      <td>Entire Apt: Spacious Studio/Loft by central park</td>\n",
              "      <td>7192</td>\n",
              "      <td>Laura</td>\n",
              "      <td>Manhattan</td>\n",
              "      <td>East Harlem</td>\n",
              "      <td>40.79851</td>\n",
              "      <td>-73.94399</td>\n",
              "      <td>Entire home/apt</td>\n",
              "      <td>80</td>\n",
              "      <td>10</td>\n",
              "      <td>9</td>\n",
              "      <td>2018-11-19</td>\n",
              "      <td>0.10</td>\n",
              "      <td>1</td>\n",
              "      <td>0</td>\n",
              "    </tr>\n",
              "    <tr>\n",
              "      <th>...</th>\n",
              "      <td>...</td>\n",
              "      <td>...</td>\n",
              "      <td>...</td>\n",
              "      <td>...</td>\n",
              "      <td>...</td>\n",
              "      <td>...</td>\n",
              "      <td>...</td>\n",
              "      <td>...</td>\n",
              "      <td>...</td>\n",
              "      <td>...</td>\n",
              "      <td>...</td>\n",
              "      <td>...</td>\n",
              "      <td>...</td>\n",
              "      <td>...</td>\n",
              "      <td>...</td>\n",
              "      <td>...</td>\n",
              "    </tr>\n",
              "    <tr>\n",
              "      <th>48890</th>\n",
              "      <td>36484665</td>\n",
              "      <td>Charming one bedroom - newly renovated rowhouse</td>\n",
              "      <td>8232441</td>\n",
              "      <td>Sabrina</td>\n",
              "      <td>Brooklyn</td>\n",
              "      <td>Bedford-Stuyvesant</td>\n",
              "      <td>40.67853</td>\n",
              "      <td>-73.94995</td>\n",
              "      <td>Private room</td>\n",
              "      <td>70</td>\n",
              "      <td>2</td>\n",
              "      <td>0</td>\n",
              "      <td>NaN</td>\n",
              "      <td>NaN</td>\n",
              "      <td>2</td>\n",
              "      <td>9</td>\n",
              "    </tr>\n",
              "    <tr>\n",
              "      <th>48891</th>\n",
              "      <td>36485057</td>\n",
              "      <td>Affordable room in Bushwick/East Williamsburg</td>\n",
              "      <td>6570630</td>\n",
              "      <td>Marisol</td>\n",
              "      <td>Brooklyn</td>\n",
              "      <td>Bushwick</td>\n",
              "      <td>40.70184</td>\n",
              "      <td>-73.93317</td>\n",
              "      <td>Private room</td>\n",
              "      <td>40</td>\n",
              "      <td>4</td>\n",
              "      <td>0</td>\n",
              "      <td>NaN</td>\n",
              "      <td>NaN</td>\n",
              "      <td>2</td>\n",
              "      <td>36</td>\n",
              "    </tr>\n",
              "    <tr>\n",
              "      <th>48892</th>\n",
              "      <td>36485431</td>\n",
              "      <td>Sunny Studio at Historical Neighborhood</td>\n",
              "      <td>23492952</td>\n",
              "      <td>Ilgar &amp; Aysel</td>\n",
              "      <td>Manhattan</td>\n",
              "      <td>Harlem</td>\n",
              "      <td>40.81475</td>\n",
              "      <td>-73.94867</td>\n",
              "      <td>Entire home/apt</td>\n",
              "      <td>115</td>\n",
              "      <td>10</td>\n",
              "      <td>0</td>\n",
              "      <td>NaN</td>\n",
              "      <td>NaN</td>\n",
              "      <td>1</td>\n",
              "      <td>27</td>\n",
              "    </tr>\n",
              "    <tr>\n",
              "      <th>48893</th>\n",
              "      <td>36485609</td>\n",
              "      <td>43rd St. Time Square-cozy single bed</td>\n",
              "      <td>30985759</td>\n",
              "      <td>Taz</td>\n",
              "      <td>Manhattan</td>\n",
              "      <td>Hell's Kitchen</td>\n",
              "      <td>40.75751</td>\n",
              "      <td>-73.99112</td>\n",
              "      <td>Shared room</td>\n",
              "      <td>55</td>\n",
              "      <td>1</td>\n",
              "      <td>0</td>\n",
              "      <td>NaN</td>\n",
              "      <td>NaN</td>\n",
              "      <td>6</td>\n",
              "      <td>2</td>\n",
              "    </tr>\n",
              "    <tr>\n",
              "      <th>48894</th>\n",
              "      <td>36487245</td>\n",
              "      <td>Trendy duplex in the very heart of Hell's Kitchen</td>\n",
              "      <td>68119814</td>\n",
              "      <td>Christophe</td>\n",
              "      <td>Manhattan</td>\n",
              "      <td>Hell's Kitchen</td>\n",
              "      <td>40.76404</td>\n",
              "      <td>-73.98933</td>\n",
              "      <td>Private room</td>\n",
              "      <td>90</td>\n",
              "      <td>7</td>\n",
              "      <td>0</td>\n",
              "      <td>NaN</td>\n",
              "      <td>NaN</td>\n",
              "      <td>1</td>\n",
              "      <td>23</td>\n",
              "    </tr>\n",
              "  </tbody>\n",
              "</table>\n",
              "<p>48895 rows × 16 columns</p>\n",
              "</div>\n",
              "      <button class=\"colab-df-convert\" onclick=\"convertToInteractive('df-25746b2f-be77-4ff8-b6bb-53bd92539403')\"\n",
              "              title=\"Convert this dataframe to an interactive table.\"\n",
              "              style=\"display:none;\">\n",
              "        \n",
              "  <svg xmlns=\"http://www.w3.org/2000/svg\" height=\"24px\"viewBox=\"0 0 24 24\"\n",
              "       width=\"24px\">\n",
              "    <path d=\"M0 0h24v24H0V0z\" fill=\"none\"/>\n",
              "    <path d=\"M18.56 5.44l.94 2.06.94-2.06 2.06-.94-2.06-.94-.94-2.06-.94 2.06-2.06.94zm-11 1L8.5 8.5l.94-2.06 2.06-.94-2.06-.94L8.5 2.5l-.94 2.06-2.06.94zm10 10l.94 2.06.94-2.06 2.06-.94-2.06-.94-.94-2.06-.94 2.06-2.06.94z\"/><path d=\"M17.41 7.96l-1.37-1.37c-.4-.4-.92-.59-1.43-.59-.52 0-1.04.2-1.43.59L10.3 9.45l-7.72 7.72c-.78.78-.78 2.05 0 2.83L4 21.41c.39.39.9.59 1.41.59.51 0 1.02-.2 1.41-.59l7.78-7.78 2.81-2.81c.8-.78.8-2.07 0-2.86zM5.41 20L4 18.59l7.72-7.72 1.47 1.35L5.41 20z\"/>\n",
              "  </svg>\n",
              "      </button>\n",
              "      \n",
              "  <style>\n",
              "    .colab-df-container {\n",
              "      display:flex;\n",
              "      flex-wrap:wrap;\n",
              "      gap: 12px;\n",
              "    }\n",
              "\n",
              "    .colab-df-convert {\n",
              "      background-color: #E8F0FE;\n",
              "      border: none;\n",
              "      border-radius: 50%;\n",
              "      cursor: pointer;\n",
              "      display: none;\n",
              "      fill: #1967D2;\n",
              "      height: 32px;\n",
              "      padding: 0 0 0 0;\n",
              "      width: 32px;\n",
              "    }\n",
              "\n",
              "    .colab-df-convert:hover {\n",
              "      background-color: #E2EBFA;\n",
              "      box-shadow: 0px 1px 2px rgba(60, 64, 67, 0.3), 0px 1px 3px 1px rgba(60, 64, 67, 0.15);\n",
              "      fill: #174EA6;\n",
              "    }\n",
              "\n",
              "    [theme=dark] .colab-df-convert {\n",
              "      background-color: #3B4455;\n",
              "      fill: #D2E3FC;\n",
              "    }\n",
              "\n",
              "    [theme=dark] .colab-df-convert:hover {\n",
              "      background-color: #434B5C;\n",
              "      box-shadow: 0px 1px 3px 1px rgba(0, 0, 0, 0.15);\n",
              "      filter: drop-shadow(0px 1px 2px rgba(0, 0, 0, 0.3));\n",
              "      fill: #FFFFFF;\n",
              "    }\n",
              "  </style>\n",
              "\n",
              "      <script>\n",
              "        const buttonEl =\n",
              "          document.querySelector('#df-25746b2f-be77-4ff8-b6bb-53bd92539403 button.colab-df-convert');\n",
              "        buttonEl.style.display =\n",
              "          google.colab.kernel.accessAllowed ? 'block' : 'none';\n",
              "\n",
              "        async function convertToInteractive(key) {\n",
              "          const element = document.querySelector('#df-25746b2f-be77-4ff8-b6bb-53bd92539403');\n",
              "          const dataTable =\n",
              "            await google.colab.kernel.invokeFunction('convertToInteractive',\n",
              "                                                     [key], {});\n",
              "          if (!dataTable) return;\n",
              "\n",
              "          const docLinkHtml = 'Like what you see? Visit the ' +\n",
              "            '<a target=\"_blank\" href=https://colab.research.google.com/notebooks/data_table.ipynb>data table notebook</a>'\n",
              "            + ' to learn more about interactive tables.';\n",
              "          element.innerHTML = '';\n",
              "          dataTable['output_type'] = 'display_data';\n",
              "          await google.colab.output.renderOutput(dataTable, element);\n",
              "          const docLink = document.createElement('div');\n",
              "          docLink.innerHTML = docLinkHtml;\n",
              "          element.appendChild(docLink);\n",
              "        }\n",
              "      </script>\n",
              "    </div>\n",
              "  </div>\n",
              "  "
            ]
          },
          "metadata": {},
          "execution_count": 57
        }
      ]
    },
    {
      "cell_type": "code",
      "source": [
        "df_air.shape"
      ],
      "metadata": {
        "colab": {
          "base_uri": "https://localhost:8080/"
        },
        "id": "6sS3EmoIJlI-",
        "outputId": "74086eb5-2f05-439a-954c-a524517c7089"
      },
      "execution_count": 58,
      "outputs": [
        {
          "output_type": "execute_result",
          "data": {
            "text/plain": [
              "(48895, 16)"
            ]
          },
          "metadata": {},
          "execution_count": 58
        }
      ]
    },
    {
      "cell_type": "code",
      "source": [
        "#lets look at the columns in this dataset\n",
        "df_air.columns"
      ],
      "metadata": {
        "colab": {
          "base_uri": "https://localhost:8080/"
        },
        "id": "Pa3Mif8lpYzD",
        "outputId": "4535a41a-609c-4d24-a8f3-017f0e251fc0"
      },
      "execution_count": 59,
      "outputs": [
        {
          "output_type": "execute_result",
          "data": {
            "text/plain": [
              "Index(['id', 'name', 'host_id', 'host_name', 'neighbourhood_group',\n",
              "       'neighbourhood', 'latitude', 'longitude', 'room_type', 'price',\n",
              "       'minimum_nights', 'number_of_reviews', 'last_review',\n",
              "       'reviews_per_month', 'calculated_host_listings_count',\n",
              "       'availability_365'],\n",
              "      dtype='object')"
            ]
          },
          "metadata": {},
          "execution_count": 59
        }
      ]
    },
    {
      "cell_type": "markdown",
      "source": [
        "So what are the numerical and categorical variables?\n",
        "\n",
        "By the  basic inspection  a particular property name will have one particular host_name hosted by that same individual but a particular host_name can have multiple properties in a area.\n",
        "\n",
        "So, host_name is a categorical variable here. Also neighbourhood_group,neighbourhood and room_type fall into this category.\n",
        "\n",
        "While id, latitude, longitude,price,minimum_nights,number_of_reviews,last_review, reviews_per_month calculated_host_listings_count, availability_365 are numerical variables"
      ],
      "metadata": {
        "id": "XUqC8BOtp8oT"
      }
    },
    {
      "cell_type": "code",
      "source": [
        "df_air.info()"
      ],
      "metadata": {
        "colab": {
          "base_uri": "https://localhost:8080/"
        },
        "id": "MUXnZlgDE3Gt",
        "outputId": "848a40de-2a8c-43a4-f8f5-871037b6116d"
      },
      "execution_count": 60,
      "outputs": [
        {
          "output_type": "stream",
          "name": "stdout",
          "text": [
            "<class 'pandas.core.frame.DataFrame'>\n",
            "RangeIndex: 48895 entries, 0 to 48894\n",
            "Data columns (total 16 columns):\n",
            " #   Column                          Non-Null Count  Dtype  \n",
            "---  ------                          --------------  -----  \n",
            " 0   id                              48895 non-null  int64  \n",
            " 1   name                            48879 non-null  object \n",
            " 2   host_id                         48895 non-null  int64  \n",
            " 3   host_name                       48874 non-null  object \n",
            " 4   neighbourhood_group             48895 non-null  object \n",
            " 5   neighbourhood                   48895 non-null  object \n",
            " 6   latitude                        48895 non-null  float64\n",
            " 7   longitude                       48895 non-null  float64\n",
            " 8   room_type                       48895 non-null  object \n",
            " 9   price                           48895 non-null  int64  \n",
            " 10  minimum_nights                  48895 non-null  int64  \n",
            " 11  number_of_reviews               48895 non-null  int64  \n",
            " 12  last_review                     38843 non-null  object \n",
            " 13  reviews_per_month               38843 non-null  float64\n",
            " 14  calculated_host_listings_count  48895 non-null  int64  \n",
            " 15  availability_365                48895 non-null  int64  \n",
            "dtypes: float64(3), int64(7), object(6)\n",
            "memory usage: 6.0+ MB\n"
          ]
        }
      ]
    },
    {
      "cell_type": "code",
      "source": [
        "#summery of the numeric columns\n",
        "df_air.describe()"
      ],
      "metadata": {
        "colab": {
          "base_uri": "https://localhost:8080/",
          "height": 300
        },
        "id": "jtOlhd8sFZjF",
        "outputId": "35ef6caa-9ba8-40bd-8c5d-4cfbe8962a71"
      },
      "execution_count": 61,
      "outputs": [
        {
          "output_type": "execute_result",
          "data": {
            "text/plain": [
              "                 id       host_id      latitude     longitude         price  \\\n",
              "count  4.889500e+04  4.889500e+04  48895.000000  48895.000000  48895.000000   \n",
              "mean   1.901714e+07  6.762001e+07     40.728949    -73.952170    152.720687   \n",
              "std    1.098311e+07  7.861097e+07      0.054530      0.046157    240.154170   \n",
              "min    2.539000e+03  2.438000e+03     40.499790    -74.244420      0.000000   \n",
              "25%    9.471945e+06  7.822033e+06     40.690100    -73.983070     69.000000   \n",
              "50%    1.967728e+07  3.079382e+07     40.723070    -73.955680    106.000000   \n",
              "75%    2.915218e+07  1.074344e+08     40.763115    -73.936275    175.000000   \n",
              "max    3.648724e+07  2.743213e+08     40.913060    -73.712990  10000.000000   \n",
              "\n",
              "       minimum_nights  number_of_reviews  reviews_per_month  \\\n",
              "count    48895.000000       48895.000000       38843.000000   \n",
              "mean         7.029962          23.274466           1.373221   \n",
              "std         20.510550          44.550582           1.680442   \n",
              "min          1.000000           0.000000           0.010000   \n",
              "25%          1.000000           1.000000           0.190000   \n",
              "50%          3.000000           5.000000           0.720000   \n",
              "75%          5.000000          24.000000           2.020000   \n",
              "max       1250.000000         629.000000          58.500000   \n",
              "\n",
              "       calculated_host_listings_count  availability_365  \n",
              "count                    48895.000000      48895.000000  \n",
              "mean                         7.143982        112.781327  \n",
              "std                         32.952519        131.622289  \n",
              "min                          1.000000          0.000000  \n",
              "25%                          1.000000          0.000000  \n",
              "50%                          1.000000         45.000000  \n",
              "75%                          2.000000        227.000000  \n",
              "max                        327.000000        365.000000  "
            ],
            "text/html": [
              "\n",
              "  <div id=\"df-001c05f2-514d-49a3-90b3-1ea3973a6ba9\">\n",
              "    <div class=\"colab-df-container\">\n",
              "      <div>\n",
              "<style scoped>\n",
              "    .dataframe tbody tr th:only-of-type {\n",
              "        vertical-align: middle;\n",
              "    }\n",
              "\n",
              "    .dataframe tbody tr th {\n",
              "        vertical-align: top;\n",
              "    }\n",
              "\n",
              "    .dataframe thead th {\n",
              "        text-align: right;\n",
              "    }\n",
              "</style>\n",
              "<table border=\"1\" class=\"dataframe\">\n",
              "  <thead>\n",
              "    <tr style=\"text-align: right;\">\n",
              "      <th></th>\n",
              "      <th>id</th>\n",
              "      <th>host_id</th>\n",
              "      <th>latitude</th>\n",
              "      <th>longitude</th>\n",
              "      <th>price</th>\n",
              "      <th>minimum_nights</th>\n",
              "      <th>number_of_reviews</th>\n",
              "      <th>reviews_per_month</th>\n",
              "      <th>calculated_host_listings_count</th>\n",
              "      <th>availability_365</th>\n",
              "    </tr>\n",
              "  </thead>\n",
              "  <tbody>\n",
              "    <tr>\n",
              "      <th>count</th>\n",
              "      <td>4.889500e+04</td>\n",
              "      <td>4.889500e+04</td>\n",
              "      <td>48895.000000</td>\n",
              "      <td>48895.000000</td>\n",
              "      <td>48895.000000</td>\n",
              "      <td>48895.000000</td>\n",
              "      <td>48895.000000</td>\n",
              "      <td>38843.000000</td>\n",
              "      <td>48895.000000</td>\n",
              "      <td>48895.000000</td>\n",
              "    </tr>\n",
              "    <tr>\n",
              "      <th>mean</th>\n",
              "      <td>1.901714e+07</td>\n",
              "      <td>6.762001e+07</td>\n",
              "      <td>40.728949</td>\n",
              "      <td>-73.952170</td>\n",
              "      <td>152.720687</td>\n",
              "      <td>7.029962</td>\n",
              "      <td>23.274466</td>\n",
              "      <td>1.373221</td>\n",
              "      <td>7.143982</td>\n",
              "      <td>112.781327</td>\n",
              "    </tr>\n",
              "    <tr>\n",
              "      <th>std</th>\n",
              "      <td>1.098311e+07</td>\n",
              "      <td>7.861097e+07</td>\n",
              "      <td>0.054530</td>\n",
              "      <td>0.046157</td>\n",
              "      <td>240.154170</td>\n",
              "      <td>20.510550</td>\n",
              "      <td>44.550582</td>\n",
              "      <td>1.680442</td>\n",
              "      <td>32.952519</td>\n",
              "      <td>131.622289</td>\n",
              "    </tr>\n",
              "    <tr>\n",
              "      <th>min</th>\n",
              "      <td>2.539000e+03</td>\n",
              "      <td>2.438000e+03</td>\n",
              "      <td>40.499790</td>\n",
              "      <td>-74.244420</td>\n",
              "      <td>0.000000</td>\n",
              "      <td>1.000000</td>\n",
              "      <td>0.000000</td>\n",
              "      <td>0.010000</td>\n",
              "      <td>1.000000</td>\n",
              "      <td>0.000000</td>\n",
              "    </tr>\n",
              "    <tr>\n",
              "      <th>25%</th>\n",
              "      <td>9.471945e+06</td>\n",
              "      <td>7.822033e+06</td>\n",
              "      <td>40.690100</td>\n",
              "      <td>-73.983070</td>\n",
              "      <td>69.000000</td>\n",
              "      <td>1.000000</td>\n",
              "      <td>1.000000</td>\n",
              "      <td>0.190000</td>\n",
              "      <td>1.000000</td>\n",
              "      <td>0.000000</td>\n",
              "    </tr>\n",
              "    <tr>\n",
              "      <th>50%</th>\n",
              "      <td>1.967728e+07</td>\n",
              "      <td>3.079382e+07</td>\n",
              "      <td>40.723070</td>\n",
              "      <td>-73.955680</td>\n",
              "      <td>106.000000</td>\n",
              "      <td>3.000000</td>\n",
              "      <td>5.000000</td>\n",
              "      <td>0.720000</td>\n",
              "      <td>1.000000</td>\n",
              "      <td>45.000000</td>\n",
              "    </tr>\n",
              "    <tr>\n",
              "      <th>75%</th>\n",
              "      <td>2.915218e+07</td>\n",
              "      <td>1.074344e+08</td>\n",
              "      <td>40.763115</td>\n",
              "      <td>-73.936275</td>\n",
              "      <td>175.000000</td>\n",
              "      <td>5.000000</td>\n",
              "      <td>24.000000</td>\n",
              "      <td>2.020000</td>\n",
              "      <td>2.000000</td>\n",
              "      <td>227.000000</td>\n",
              "    </tr>\n",
              "    <tr>\n",
              "      <th>max</th>\n",
              "      <td>3.648724e+07</td>\n",
              "      <td>2.743213e+08</td>\n",
              "      <td>40.913060</td>\n",
              "      <td>-73.712990</td>\n",
              "      <td>10000.000000</td>\n",
              "      <td>1250.000000</td>\n",
              "      <td>629.000000</td>\n",
              "      <td>58.500000</td>\n",
              "      <td>327.000000</td>\n",
              "      <td>365.000000</td>\n",
              "    </tr>\n",
              "  </tbody>\n",
              "</table>\n",
              "</div>\n",
              "      <button class=\"colab-df-convert\" onclick=\"convertToInteractive('df-001c05f2-514d-49a3-90b3-1ea3973a6ba9')\"\n",
              "              title=\"Convert this dataframe to an interactive table.\"\n",
              "              style=\"display:none;\">\n",
              "        \n",
              "  <svg xmlns=\"http://www.w3.org/2000/svg\" height=\"24px\"viewBox=\"0 0 24 24\"\n",
              "       width=\"24px\">\n",
              "    <path d=\"M0 0h24v24H0V0z\" fill=\"none\"/>\n",
              "    <path d=\"M18.56 5.44l.94 2.06.94-2.06 2.06-.94-2.06-.94-.94-2.06-.94 2.06-2.06.94zm-11 1L8.5 8.5l.94-2.06 2.06-.94-2.06-.94L8.5 2.5l-.94 2.06-2.06.94zm10 10l.94 2.06.94-2.06 2.06-.94-2.06-.94-.94-2.06-.94 2.06-2.06.94z\"/><path d=\"M17.41 7.96l-1.37-1.37c-.4-.4-.92-.59-1.43-.59-.52 0-1.04.2-1.43.59L10.3 9.45l-7.72 7.72c-.78.78-.78 2.05 0 2.83L4 21.41c.39.39.9.59 1.41.59.51 0 1.02-.2 1.41-.59l7.78-7.78 2.81-2.81c.8-.78.8-2.07 0-2.86zM5.41 20L4 18.59l7.72-7.72 1.47 1.35L5.41 20z\"/>\n",
              "  </svg>\n",
              "      </button>\n",
              "      \n",
              "  <style>\n",
              "    .colab-df-container {\n",
              "      display:flex;\n",
              "      flex-wrap:wrap;\n",
              "      gap: 12px;\n",
              "    }\n",
              "\n",
              "    .colab-df-convert {\n",
              "      background-color: #E8F0FE;\n",
              "      border: none;\n",
              "      border-radius: 50%;\n",
              "      cursor: pointer;\n",
              "      display: none;\n",
              "      fill: #1967D2;\n",
              "      height: 32px;\n",
              "      padding: 0 0 0 0;\n",
              "      width: 32px;\n",
              "    }\n",
              "\n",
              "    .colab-df-convert:hover {\n",
              "      background-color: #E2EBFA;\n",
              "      box-shadow: 0px 1px 2px rgba(60, 64, 67, 0.3), 0px 1px 3px 1px rgba(60, 64, 67, 0.15);\n",
              "      fill: #174EA6;\n",
              "    }\n",
              "\n",
              "    [theme=dark] .colab-df-convert {\n",
              "      background-color: #3B4455;\n",
              "      fill: #D2E3FC;\n",
              "    }\n",
              "\n",
              "    [theme=dark] .colab-df-convert:hover {\n",
              "      background-color: #434B5C;\n",
              "      box-shadow: 0px 1px 3px 1px rgba(0, 0, 0, 0.15);\n",
              "      filter: drop-shadow(0px 1px 2px rgba(0, 0, 0, 0.3));\n",
              "      fill: #FFFFFF;\n",
              "    }\n",
              "  </style>\n",
              "\n",
              "      <script>\n",
              "        const buttonEl =\n",
              "          document.querySelector('#df-001c05f2-514d-49a3-90b3-1ea3973a6ba9 button.colab-df-convert');\n",
              "        buttonEl.style.display =\n",
              "          google.colab.kernel.accessAllowed ? 'block' : 'none';\n",
              "\n",
              "        async function convertToInteractive(key) {\n",
              "          const element = document.querySelector('#df-001c05f2-514d-49a3-90b3-1ea3973a6ba9');\n",
              "          const dataTable =\n",
              "            await google.colab.kernel.invokeFunction('convertToInteractive',\n",
              "                                                     [key], {});\n",
              "          if (!dataTable) return;\n",
              "\n",
              "          const docLinkHtml = 'Like what you see? Visit the ' +\n",
              "            '<a target=\"_blank\" href=https://colab.research.google.com/notebooks/data_table.ipynb>data table notebook</a>'\n",
              "            + ' to learn more about interactive tables.';\n",
              "          element.innerHTML = '';\n",
              "          dataTable['output_type'] = 'display_data';\n",
              "          await google.colab.output.renderOutput(dataTable, element);\n",
              "          const docLink = document.createElement('div');\n",
              "          docLink.innerHTML = docLinkHtml;\n",
              "          element.appendChild(docLink);\n",
              "        }\n",
              "      </script>\n",
              "    </div>\n",
              "  </div>\n",
              "  "
            ]
          },
          "metadata": {},
          "execution_count": 61
        }
      ]
    },
    {
      "cell_type": "code",
      "source": [
        "df_air.head()"
      ],
      "metadata": {
        "colab": {
          "base_uri": "https://localhost:8080/",
          "height": 461
        },
        "id": "X0LBIXw4Fg3m",
        "outputId": "549037ab-467a-484c-b69d-87ab4cd3573c"
      },
      "execution_count": 62,
      "outputs": [
        {
          "output_type": "execute_result",
          "data": {
            "text/plain": [
              "     id                                              name  host_id  \\\n",
              "0  2539                Clean & quiet apt home by the park     2787   \n",
              "1  2595                             Skylit Midtown Castle     2845   \n",
              "2  3647               THE VILLAGE OF HARLEM....NEW YORK !     4632   \n",
              "3  3831                   Cozy Entire Floor of Brownstone     4869   \n",
              "4  5022  Entire Apt: Spacious Studio/Loft by central park     7192   \n",
              "\n",
              "     host_name neighbourhood_group neighbourhood  latitude  longitude  \\\n",
              "0         John            Brooklyn    Kensington  40.64749  -73.97237   \n",
              "1     Jennifer           Manhattan       Midtown  40.75362  -73.98377   \n",
              "2    Elisabeth           Manhattan        Harlem  40.80902  -73.94190   \n",
              "3  LisaRoxanne            Brooklyn  Clinton Hill  40.68514  -73.95976   \n",
              "4        Laura           Manhattan   East Harlem  40.79851  -73.94399   \n",
              "\n",
              "         room_type  price  minimum_nights  number_of_reviews last_review  \\\n",
              "0     Private room    149               1                  9  2018-10-19   \n",
              "1  Entire home/apt    225               1                 45  2019-05-21   \n",
              "2     Private room    150               3                  0         NaN   \n",
              "3  Entire home/apt     89               1                270  2019-07-05   \n",
              "4  Entire home/apt     80              10                  9  2018-11-19   \n",
              "\n",
              "   reviews_per_month  calculated_host_listings_count  availability_365  \n",
              "0               0.21                               6               365  \n",
              "1               0.38                               2               355  \n",
              "2                NaN                               1               365  \n",
              "3               4.64                               1               194  \n",
              "4               0.10                               1                 0  "
            ],
            "text/html": [
              "\n",
              "  <div id=\"df-24bd3f2a-0200-4c5e-84fc-588544ce54e4\">\n",
              "    <div class=\"colab-df-container\">\n",
              "      <div>\n",
              "<style scoped>\n",
              "    .dataframe tbody tr th:only-of-type {\n",
              "        vertical-align: middle;\n",
              "    }\n",
              "\n",
              "    .dataframe tbody tr th {\n",
              "        vertical-align: top;\n",
              "    }\n",
              "\n",
              "    .dataframe thead th {\n",
              "        text-align: right;\n",
              "    }\n",
              "</style>\n",
              "<table border=\"1\" class=\"dataframe\">\n",
              "  <thead>\n",
              "    <tr style=\"text-align: right;\">\n",
              "      <th></th>\n",
              "      <th>id</th>\n",
              "      <th>name</th>\n",
              "      <th>host_id</th>\n",
              "      <th>host_name</th>\n",
              "      <th>neighbourhood_group</th>\n",
              "      <th>neighbourhood</th>\n",
              "      <th>latitude</th>\n",
              "      <th>longitude</th>\n",
              "      <th>room_type</th>\n",
              "      <th>price</th>\n",
              "      <th>minimum_nights</th>\n",
              "      <th>number_of_reviews</th>\n",
              "      <th>last_review</th>\n",
              "      <th>reviews_per_month</th>\n",
              "      <th>calculated_host_listings_count</th>\n",
              "      <th>availability_365</th>\n",
              "    </tr>\n",
              "  </thead>\n",
              "  <tbody>\n",
              "    <tr>\n",
              "      <th>0</th>\n",
              "      <td>2539</td>\n",
              "      <td>Clean &amp; quiet apt home by the park</td>\n",
              "      <td>2787</td>\n",
              "      <td>John</td>\n",
              "      <td>Brooklyn</td>\n",
              "      <td>Kensington</td>\n",
              "      <td>40.64749</td>\n",
              "      <td>-73.97237</td>\n",
              "      <td>Private room</td>\n",
              "      <td>149</td>\n",
              "      <td>1</td>\n",
              "      <td>9</td>\n",
              "      <td>2018-10-19</td>\n",
              "      <td>0.21</td>\n",
              "      <td>6</td>\n",
              "      <td>365</td>\n",
              "    </tr>\n",
              "    <tr>\n",
              "      <th>1</th>\n",
              "      <td>2595</td>\n",
              "      <td>Skylit Midtown Castle</td>\n",
              "      <td>2845</td>\n",
              "      <td>Jennifer</td>\n",
              "      <td>Manhattan</td>\n",
              "      <td>Midtown</td>\n",
              "      <td>40.75362</td>\n",
              "      <td>-73.98377</td>\n",
              "      <td>Entire home/apt</td>\n",
              "      <td>225</td>\n",
              "      <td>1</td>\n",
              "      <td>45</td>\n",
              "      <td>2019-05-21</td>\n",
              "      <td>0.38</td>\n",
              "      <td>2</td>\n",
              "      <td>355</td>\n",
              "    </tr>\n",
              "    <tr>\n",
              "      <th>2</th>\n",
              "      <td>3647</td>\n",
              "      <td>THE VILLAGE OF HARLEM....NEW YORK !</td>\n",
              "      <td>4632</td>\n",
              "      <td>Elisabeth</td>\n",
              "      <td>Manhattan</td>\n",
              "      <td>Harlem</td>\n",
              "      <td>40.80902</td>\n",
              "      <td>-73.94190</td>\n",
              "      <td>Private room</td>\n",
              "      <td>150</td>\n",
              "      <td>3</td>\n",
              "      <td>0</td>\n",
              "      <td>NaN</td>\n",
              "      <td>NaN</td>\n",
              "      <td>1</td>\n",
              "      <td>365</td>\n",
              "    </tr>\n",
              "    <tr>\n",
              "      <th>3</th>\n",
              "      <td>3831</td>\n",
              "      <td>Cozy Entire Floor of Brownstone</td>\n",
              "      <td>4869</td>\n",
              "      <td>LisaRoxanne</td>\n",
              "      <td>Brooklyn</td>\n",
              "      <td>Clinton Hill</td>\n",
              "      <td>40.68514</td>\n",
              "      <td>-73.95976</td>\n",
              "      <td>Entire home/apt</td>\n",
              "      <td>89</td>\n",
              "      <td>1</td>\n",
              "      <td>270</td>\n",
              "      <td>2019-07-05</td>\n",
              "      <td>4.64</td>\n",
              "      <td>1</td>\n",
              "      <td>194</td>\n",
              "    </tr>\n",
              "    <tr>\n",
              "      <th>4</th>\n",
              "      <td>5022</td>\n",
              "      <td>Entire Apt: Spacious Studio/Loft by central park</td>\n",
              "      <td>7192</td>\n",
              "      <td>Laura</td>\n",
              "      <td>Manhattan</td>\n",
              "      <td>East Harlem</td>\n",
              "      <td>40.79851</td>\n",
              "      <td>-73.94399</td>\n",
              "      <td>Entire home/apt</td>\n",
              "      <td>80</td>\n",
              "      <td>10</td>\n",
              "      <td>9</td>\n",
              "      <td>2018-11-19</td>\n",
              "      <td>0.10</td>\n",
              "      <td>1</td>\n",
              "      <td>0</td>\n",
              "    </tr>\n",
              "  </tbody>\n",
              "</table>\n",
              "</div>\n",
              "      <button class=\"colab-df-convert\" onclick=\"convertToInteractive('df-24bd3f2a-0200-4c5e-84fc-588544ce54e4')\"\n",
              "              title=\"Convert this dataframe to an interactive table.\"\n",
              "              style=\"display:none;\">\n",
              "        \n",
              "  <svg xmlns=\"http://www.w3.org/2000/svg\" height=\"24px\"viewBox=\"0 0 24 24\"\n",
              "       width=\"24px\">\n",
              "    <path d=\"M0 0h24v24H0V0z\" fill=\"none\"/>\n",
              "    <path d=\"M18.56 5.44l.94 2.06.94-2.06 2.06-.94-2.06-.94-.94-2.06-.94 2.06-2.06.94zm-11 1L8.5 8.5l.94-2.06 2.06-.94-2.06-.94L8.5 2.5l-.94 2.06-2.06.94zm10 10l.94 2.06.94-2.06 2.06-.94-2.06-.94-.94-2.06-.94 2.06-2.06.94z\"/><path d=\"M17.41 7.96l-1.37-1.37c-.4-.4-.92-.59-1.43-.59-.52 0-1.04.2-1.43.59L10.3 9.45l-7.72 7.72c-.78.78-.78 2.05 0 2.83L4 21.41c.39.39.9.59 1.41.59.51 0 1.02-.2 1.41-.59l7.78-7.78 2.81-2.81c.8-.78.8-2.07 0-2.86zM5.41 20L4 18.59l7.72-7.72 1.47 1.35L5.41 20z\"/>\n",
              "  </svg>\n",
              "      </button>\n",
              "      \n",
              "  <style>\n",
              "    .colab-df-container {\n",
              "      display:flex;\n",
              "      flex-wrap:wrap;\n",
              "      gap: 12px;\n",
              "    }\n",
              "\n",
              "    .colab-df-convert {\n",
              "      background-color: #E8F0FE;\n",
              "      border: none;\n",
              "      border-radius: 50%;\n",
              "      cursor: pointer;\n",
              "      display: none;\n",
              "      fill: #1967D2;\n",
              "      height: 32px;\n",
              "      padding: 0 0 0 0;\n",
              "      width: 32px;\n",
              "    }\n",
              "\n",
              "    .colab-df-convert:hover {\n",
              "      background-color: #E2EBFA;\n",
              "      box-shadow: 0px 1px 2px rgba(60, 64, 67, 0.3), 0px 1px 3px 1px rgba(60, 64, 67, 0.15);\n",
              "      fill: #174EA6;\n",
              "    }\n",
              "\n",
              "    [theme=dark] .colab-df-convert {\n",
              "      background-color: #3B4455;\n",
              "      fill: #D2E3FC;\n",
              "    }\n",
              "\n",
              "    [theme=dark] .colab-df-convert:hover {\n",
              "      background-color: #434B5C;\n",
              "      box-shadow: 0px 1px 3px 1px rgba(0, 0, 0, 0.15);\n",
              "      filter: drop-shadow(0px 1px 2px rgba(0, 0, 0, 0.3));\n",
              "      fill: #FFFFFF;\n",
              "    }\n",
              "  </style>\n",
              "\n",
              "      <script>\n",
              "        const buttonEl =\n",
              "          document.querySelector('#df-24bd3f2a-0200-4c5e-84fc-588544ce54e4 button.colab-df-convert');\n",
              "        buttonEl.style.display =\n",
              "          google.colab.kernel.accessAllowed ? 'block' : 'none';\n",
              "\n",
              "        async function convertToInteractive(key) {\n",
              "          const element = document.querySelector('#df-24bd3f2a-0200-4c5e-84fc-588544ce54e4');\n",
              "          const dataTable =\n",
              "            await google.colab.kernel.invokeFunction('convertToInteractive',\n",
              "                                                     [key], {});\n",
              "          if (!dataTable) return;\n",
              "\n",
              "          const docLinkHtml = 'Like what you see? Visit the ' +\n",
              "            '<a target=\"_blank\" href=https://colab.research.google.com/notebooks/data_table.ipynb>data table notebook</a>'\n",
              "            + ' to learn more about interactive tables.';\n",
              "          element.innerHTML = '';\n",
              "          dataTable['output_type'] = 'display_data';\n",
              "          await google.colab.output.renderOutput(dataTable, element);\n",
              "          const docLink = document.createElement('div');\n",
              "          docLink.innerHTML = docLinkHtml;\n",
              "          element.appendChild(docLink);\n",
              "        }\n",
              "      </script>\n",
              "    </div>\n",
              "  </div>\n",
              "  "
            ]
          },
          "metadata": {},
          "execution_count": 62
        }
      ]
    },
    {
      "cell_type": "code",
      "source": [
        "#data preprocessing\n",
        "df_air.isnull().sum()"
      ],
      "metadata": {
        "colab": {
          "base_uri": "https://localhost:8080/"
        },
        "id": "mDsPvyJvFnnW",
        "outputId": "b48ca639-1906-4879-d79f-a65f9c364f97"
      },
      "execution_count": 63,
      "outputs": [
        {
          "output_type": "execute_result",
          "data": {
            "text/plain": [
              "id                                    0\n",
              "name                                 16\n",
              "host_id                               0\n",
              "host_name                            21\n",
              "neighbourhood_group                   0\n",
              "neighbourhood                         0\n",
              "latitude                              0\n",
              "longitude                             0\n",
              "room_type                             0\n",
              "price                                 0\n",
              "minimum_nights                        0\n",
              "number_of_reviews                     0\n",
              "last_review                       10052\n",
              "reviews_per_month                 10052\n",
              "calculated_host_listings_count        0\n",
              "availability_365                      0\n",
              "dtype: int64"
            ]
          },
          "metadata": {},
          "execution_count": 63
        }
      ]
    },
    {
      "cell_type": "markdown",
      "source": [
        "**observations** \n",
        "\n",
        "Here we have 4 null columns with null values . so we have to change these null values . \n",
        "\n",
        "1  names and host names are substituted \n",
        "2  last review is not much required so we drop this column\n",
        "3 reviews per month column containig null values and we can simple put 0 reviews  by replacing NAN's"
      ],
      "metadata": {
        "id": "R69CbpxDT0KF"
      }
    },
    {
      "cell_type": "code",
      "source": [
        "df_air['name'].fillna('unknown',inplace=True)\n",
        "df_air['host_name'].fillna('no_name',inplace=True)"
      ],
      "metadata": {
        "id": "FFvVSQwcTqw8"
      },
      "execution_count": 64,
      "outputs": []
    },
    {
      "cell_type": "code",
      "source": [
        "df_air= df_air.drop(['last_review'],axis=1)"
      ],
      "metadata": {
        "id": "Wss7gPuXS24-"
      },
      "execution_count": 65,
      "outputs": []
    },
    {
      "cell_type": "code",
      "source": [
        "df_air['reviews_per_month']=df_air['reviews_per_month'].replace(to_replace=np.nan,value=0).astype('int64')"
      ],
      "metadata": {
        "id": "snFj1pAOSI3d"
      },
      "execution_count": 66,
      "outputs": []
    },
    {
      "cell_type": "code",
      "source": [
        "df_air['reviews_per_month'].isnull().values.any()"
      ],
      "metadata": {
        "colab": {
          "base_uri": "https://localhost:8080/"
        },
        "id": "Q9ckcgXbRTTC",
        "outputId": "45dc96d6-2053-4219-fd02-cc32a335118d"
      },
      "execution_count": 67,
      "outputs": [
        {
          "output_type": "execute_result",
          "data": {
            "text/plain": [
              "False"
            ]
          },
          "metadata": {},
          "execution_count": 67
        }
      ]
    },
    {
      "cell_type": "code",
      "source": [
        "# check number of unique values\n",
        "df_air['id'].nunique()"
      ],
      "metadata": {
        "colab": {
          "base_uri": "https://localhost:8080/"
        },
        "id": "_SuTMGp_FvO1",
        "outputId": "15722b8b-6982-4851-de49-5df1c48453fd"
      },
      "execution_count": 68,
      "outputs": [
        {
          "output_type": "execute_result",
          "data": {
            "text/plain": [
              "48895"
            ]
          },
          "metadata": {},
          "execution_count": 68
        }
      ]
    },
    {
      "cell_type": "code",
      "execution_count": 69,
      "metadata": {
        "colab": {
          "base_uri": "https://localhost:8080/"
        },
        "id": "r6QJnfaK5Tm3",
        "outputId": "d8cb1719-6560-4743-caa8-b467b051df36"
      },
      "outputs": [
        {
          "output_type": "execute_result",
          "data": {
            "text/plain": [
              "11453"
            ]
          },
          "metadata": {},
          "execution_count": 69
        }
      ],
      "source": [
        "df_air['host_name'].nunique()"
      ]
    },
    {
      "cell_type": "code",
      "source": [
        "df_air['name'].nunique()"
      ],
      "metadata": {
        "colab": {
          "base_uri": "https://localhost:8080/"
        },
        "id": "oRPFeu5gGvaG",
        "outputId": "4b274f7e-259e-4f9f-afaa-82b81979d943"
      },
      "execution_count": 70,
      "outputs": [
        {
          "output_type": "execute_result",
          "data": {
            "text/plain": [
              "47906"
            ]
          },
          "metadata": {},
          "execution_count": 70
        }
      ]
    },
    {
      "cell_type": "code",
      "source": [
        "df_air.isnull().sum()"
      ],
      "metadata": {
        "colab": {
          "base_uri": "https://localhost:8080/"
        },
        "id": "8DW65-wNTmHs",
        "outputId": "dae1fb6a-6386-4e49-b634-f5953b451ad8"
      },
      "execution_count": 71,
      "outputs": [
        {
          "output_type": "execute_result",
          "data": {
            "text/plain": [
              "id                                0\n",
              "name                              0\n",
              "host_id                           0\n",
              "host_name                         0\n",
              "neighbourhood_group               0\n",
              "neighbourhood                     0\n",
              "latitude                          0\n",
              "longitude                         0\n",
              "room_type                         0\n",
              "price                             0\n",
              "minimum_nights                    0\n",
              "number_of_reviews                 0\n",
              "reviews_per_month                 0\n",
              "calculated_host_listings_count    0\n",
              "availability_365                  0\n",
              "dtype: int64"
            ]
          },
          "metadata": {},
          "execution_count": 71
        }
      ]
    },
    {
      "cell_type": "markdown",
      "source": [
        "now there is no null vaues \n",
        "\n",
        "so the data is ready for analysys"
      ],
      "metadata": {
        "id": "RlV1RbLmV-G2"
      }
    },
    {
      "cell_type": "markdown",
      "source": [
        "## checking if there is any duplicate data"
      ],
      "metadata": {
        "id": "iaa7ph6-Asql"
      }
    },
    {
      "cell_type": "code",
      "source": [
        "duplicate_data = df_air.duplicated()\n",
        "print(duplicate_data.sum())\n",
        "df_air[duplicate_data]\n",
        "\n",
        "### there is no duplicate datas "
      ],
      "metadata": {
        "id": "P1XiN6sfHMVs",
        "colab": {
          "base_uri": "https://localhost:8080/",
          "height": 66
        },
        "outputId": "c6eef71d-f0e0-4414-face-fef8fe86c17c"
      },
      "execution_count": 72,
      "outputs": [
        {
          "output_type": "stream",
          "name": "stdout",
          "text": [
            "0\n"
          ]
        },
        {
          "output_type": "execute_result",
          "data": {
            "text/plain": [
              "Empty DataFrame\n",
              "Columns: [id, name, host_id, host_name, neighbourhood_group, neighbourhood, latitude, longitude, room_type, price, minimum_nights, number_of_reviews, reviews_per_month, calculated_host_listings_count, availability_365]\n",
              "Index: []"
            ],
            "text/html": [
              "\n",
              "  <div id=\"df-2632d50f-eda0-4026-96bc-fd6059f61e19\">\n",
              "    <div class=\"colab-df-container\">\n",
              "      <div>\n",
              "<style scoped>\n",
              "    .dataframe tbody tr th:only-of-type {\n",
              "        vertical-align: middle;\n",
              "    }\n",
              "\n",
              "    .dataframe tbody tr th {\n",
              "        vertical-align: top;\n",
              "    }\n",
              "\n",
              "    .dataframe thead th {\n",
              "        text-align: right;\n",
              "    }\n",
              "</style>\n",
              "<table border=\"1\" class=\"dataframe\">\n",
              "  <thead>\n",
              "    <tr style=\"text-align: right;\">\n",
              "      <th></th>\n",
              "      <th>id</th>\n",
              "      <th>name</th>\n",
              "      <th>host_id</th>\n",
              "      <th>host_name</th>\n",
              "      <th>neighbourhood_group</th>\n",
              "      <th>neighbourhood</th>\n",
              "      <th>latitude</th>\n",
              "      <th>longitude</th>\n",
              "      <th>room_type</th>\n",
              "      <th>price</th>\n",
              "      <th>minimum_nights</th>\n",
              "      <th>number_of_reviews</th>\n",
              "      <th>reviews_per_month</th>\n",
              "      <th>calculated_host_listings_count</th>\n",
              "      <th>availability_365</th>\n",
              "    </tr>\n",
              "  </thead>\n",
              "  <tbody>\n",
              "  </tbody>\n",
              "</table>\n",
              "</div>\n",
              "      <button class=\"colab-df-convert\" onclick=\"convertToInteractive('df-2632d50f-eda0-4026-96bc-fd6059f61e19')\"\n",
              "              title=\"Convert this dataframe to an interactive table.\"\n",
              "              style=\"display:none;\">\n",
              "        \n",
              "  <svg xmlns=\"http://www.w3.org/2000/svg\" height=\"24px\"viewBox=\"0 0 24 24\"\n",
              "       width=\"24px\">\n",
              "    <path d=\"M0 0h24v24H0V0z\" fill=\"none\"/>\n",
              "    <path d=\"M18.56 5.44l.94 2.06.94-2.06 2.06-.94-2.06-.94-.94-2.06-.94 2.06-2.06.94zm-11 1L8.5 8.5l.94-2.06 2.06-.94-2.06-.94L8.5 2.5l-.94 2.06-2.06.94zm10 10l.94 2.06.94-2.06 2.06-.94-2.06-.94-.94-2.06-.94 2.06-2.06.94z\"/><path d=\"M17.41 7.96l-1.37-1.37c-.4-.4-.92-.59-1.43-.59-.52 0-1.04.2-1.43.59L10.3 9.45l-7.72 7.72c-.78.78-.78 2.05 0 2.83L4 21.41c.39.39.9.59 1.41.59.51 0 1.02-.2 1.41-.59l7.78-7.78 2.81-2.81c.8-.78.8-2.07 0-2.86zM5.41 20L4 18.59l7.72-7.72 1.47 1.35L5.41 20z\"/>\n",
              "  </svg>\n",
              "      </button>\n",
              "      \n",
              "  <style>\n",
              "    .colab-df-container {\n",
              "      display:flex;\n",
              "      flex-wrap:wrap;\n",
              "      gap: 12px;\n",
              "    }\n",
              "\n",
              "    .colab-df-convert {\n",
              "      background-color: #E8F0FE;\n",
              "      border: none;\n",
              "      border-radius: 50%;\n",
              "      cursor: pointer;\n",
              "      display: none;\n",
              "      fill: #1967D2;\n",
              "      height: 32px;\n",
              "      padding: 0 0 0 0;\n",
              "      width: 32px;\n",
              "    }\n",
              "\n",
              "    .colab-df-convert:hover {\n",
              "      background-color: #E2EBFA;\n",
              "      box-shadow: 0px 1px 2px rgba(60, 64, 67, 0.3), 0px 1px 3px 1px rgba(60, 64, 67, 0.15);\n",
              "      fill: #174EA6;\n",
              "    }\n",
              "\n",
              "    [theme=dark] .colab-df-convert {\n",
              "      background-color: #3B4455;\n",
              "      fill: #D2E3FC;\n",
              "    }\n",
              "\n",
              "    [theme=dark] .colab-df-convert:hover {\n",
              "      background-color: #434B5C;\n",
              "      box-shadow: 0px 1px 3px 1px rgba(0, 0, 0, 0.15);\n",
              "      filter: drop-shadow(0px 1px 2px rgba(0, 0, 0, 0.3));\n",
              "      fill: #FFFFFF;\n",
              "    }\n",
              "  </style>\n",
              "\n",
              "      <script>\n",
              "        const buttonEl =\n",
              "          document.querySelector('#df-2632d50f-eda0-4026-96bc-fd6059f61e19 button.colab-df-convert');\n",
              "        buttonEl.style.display =\n",
              "          google.colab.kernel.accessAllowed ? 'block' : 'none';\n",
              "\n",
              "        async function convertToInteractive(key) {\n",
              "          const element = document.querySelector('#df-2632d50f-eda0-4026-96bc-fd6059f61e19');\n",
              "          const dataTable =\n",
              "            await google.colab.kernel.invokeFunction('convertToInteractive',\n",
              "                                                     [key], {});\n",
              "          if (!dataTable) return;\n",
              "\n",
              "          const docLinkHtml = 'Like what you see? Visit the ' +\n",
              "            '<a target=\"_blank\" href=https://colab.research.google.com/notebooks/data_table.ipynb>data table notebook</a>'\n",
              "            + ' to learn more about interactive tables.';\n",
              "          element.innerHTML = '';\n",
              "          dataTable['output_type'] = 'display_data';\n",
              "          await google.colab.output.renderOutput(dataTable, element);\n",
              "          const docLink = document.createElement('div');\n",
              "          docLink.innerHTML = docLinkHtml;\n",
              "          element.appendChild(docLink);\n",
              "        }\n",
              "      </script>\n",
              "    </div>\n",
              "  </div>\n",
              "  "
            ]
          },
          "metadata": {},
          "execution_count": 72
        }
      ]
    },
    {
      "cell_type": "markdown",
      "source": [
        "if we think like a travellor , the person trying to book a listing for stay/rent who should check the details like \n",
        "name, host_name, neighbour_type , minimum_night,number_of_reviews . these are the importent ones in our analysis. so we have to crosscheck through at last. "
      ],
      "metadata": {
        "id": "IBwePvmOsXDj"
      }
    },
    {
      "cell_type": "markdown",
      "source": [
        "# **Now taking necessary columns only**:"
      ],
      "metadata": {
        "id": "LcjGc0ZsCYmJ"
      }
    },
    {
      "cell_type": "code",
      "source": [
        "df = df_air[['id','name','host_id','host_name','neighbourhood_group','neighbourhood','room_type','price','minimum_nights', 'number_of_reviews','calculated_host_listings_count','availability_365']]\n",
        "df.head()"
      ],
      "metadata": {
        "colab": {
          "base_uri": "https://localhost:8080/",
          "height": 206
        },
        "id": "7rx7JOJVCRtG",
        "outputId": "b42e57d1-d963-455f-9d35-7caef7114952"
      },
      "execution_count": 73,
      "outputs": [
        {
          "output_type": "execute_result",
          "data": {
            "text/plain": [
              "     id                                              name  host_id  \\\n",
              "0  2539                Clean & quiet apt home by the park     2787   \n",
              "1  2595                             Skylit Midtown Castle     2845   \n",
              "2  3647               THE VILLAGE OF HARLEM....NEW YORK !     4632   \n",
              "3  3831                   Cozy Entire Floor of Brownstone     4869   \n",
              "4  5022  Entire Apt: Spacious Studio/Loft by central park     7192   \n",
              "\n",
              "     host_name neighbourhood_group neighbourhood        room_type  price  \\\n",
              "0         John            Brooklyn    Kensington     Private room    149   \n",
              "1     Jennifer           Manhattan       Midtown  Entire home/apt    225   \n",
              "2    Elisabeth           Manhattan        Harlem     Private room    150   \n",
              "3  LisaRoxanne            Brooklyn  Clinton Hill  Entire home/apt     89   \n",
              "4        Laura           Manhattan   East Harlem  Entire home/apt     80   \n",
              "\n",
              "   minimum_nights  number_of_reviews  calculated_host_listings_count  \\\n",
              "0               1                  9                               6   \n",
              "1               1                 45                               2   \n",
              "2               3                  0                               1   \n",
              "3               1                270                               1   \n",
              "4              10                  9                               1   \n",
              "\n",
              "   availability_365  \n",
              "0               365  \n",
              "1               355  \n",
              "2               365  \n",
              "3               194  \n",
              "4                 0  "
            ],
            "text/html": [
              "\n",
              "  <div id=\"df-18d96080-f693-4182-b443-0a158d86f4cf\">\n",
              "    <div class=\"colab-df-container\">\n",
              "      <div>\n",
              "<style scoped>\n",
              "    .dataframe tbody tr th:only-of-type {\n",
              "        vertical-align: middle;\n",
              "    }\n",
              "\n",
              "    .dataframe tbody tr th {\n",
              "        vertical-align: top;\n",
              "    }\n",
              "\n",
              "    .dataframe thead th {\n",
              "        text-align: right;\n",
              "    }\n",
              "</style>\n",
              "<table border=\"1\" class=\"dataframe\">\n",
              "  <thead>\n",
              "    <tr style=\"text-align: right;\">\n",
              "      <th></th>\n",
              "      <th>id</th>\n",
              "      <th>name</th>\n",
              "      <th>host_id</th>\n",
              "      <th>host_name</th>\n",
              "      <th>neighbourhood_group</th>\n",
              "      <th>neighbourhood</th>\n",
              "      <th>room_type</th>\n",
              "      <th>price</th>\n",
              "      <th>minimum_nights</th>\n",
              "      <th>number_of_reviews</th>\n",
              "      <th>calculated_host_listings_count</th>\n",
              "      <th>availability_365</th>\n",
              "    </tr>\n",
              "  </thead>\n",
              "  <tbody>\n",
              "    <tr>\n",
              "      <th>0</th>\n",
              "      <td>2539</td>\n",
              "      <td>Clean &amp; quiet apt home by the park</td>\n",
              "      <td>2787</td>\n",
              "      <td>John</td>\n",
              "      <td>Brooklyn</td>\n",
              "      <td>Kensington</td>\n",
              "      <td>Private room</td>\n",
              "      <td>149</td>\n",
              "      <td>1</td>\n",
              "      <td>9</td>\n",
              "      <td>6</td>\n",
              "      <td>365</td>\n",
              "    </tr>\n",
              "    <tr>\n",
              "      <th>1</th>\n",
              "      <td>2595</td>\n",
              "      <td>Skylit Midtown Castle</td>\n",
              "      <td>2845</td>\n",
              "      <td>Jennifer</td>\n",
              "      <td>Manhattan</td>\n",
              "      <td>Midtown</td>\n",
              "      <td>Entire home/apt</td>\n",
              "      <td>225</td>\n",
              "      <td>1</td>\n",
              "      <td>45</td>\n",
              "      <td>2</td>\n",
              "      <td>355</td>\n",
              "    </tr>\n",
              "    <tr>\n",
              "      <th>2</th>\n",
              "      <td>3647</td>\n",
              "      <td>THE VILLAGE OF HARLEM....NEW YORK !</td>\n",
              "      <td>4632</td>\n",
              "      <td>Elisabeth</td>\n",
              "      <td>Manhattan</td>\n",
              "      <td>Harlem</td>\n",
              "      <td>Private room</td>\n",
              "      <td>150</td>\n",
              "      <td>3</td>\n",
              "      <td>0</td>\n",
              "      <td>1</td>\n",
              "      <td>365</td>\n",
              "    </tr>\n",
              "    <tr>\n",
              "      <th>3</th>\n",
              "      <td>3831</td>\n",
              "      <td>Cozy Entire Floor of Brownstone</td>\n",
              "      <td>4869</td>\n",
              "      <td>LisaRoxanne</td>\n",
              "      <td>Brooklyn</td>\n",
              "      <td>Clinton Hill</td>\n",
              "      <td>Entire home/apt</td>\n",
              "      <td>89</td>\n",
              "      <td>1</td>\n",
              "      <td>270</td>\n",
              "      <td>1</td>\n",
              "      <td>194</td>\n",
              "    </tr>\n",
              "    <tr>\n",
              "      <th>4</th>\n",
              "      <td>5022</td>\n",
              "      <td>Entire Apt: Spacious Studio/Loft by central park</td>\n",
              "      <td>7192</td>\n",
              "      <td>Laura</td>\n",
              "      <td>Manhattan</td>\n",
              "      <td>East Harlem</td>\n",
              "      <td>Entire home/apt</td>\n",
              "      <td>80</td>\n",
              "      <td>10</td>\n",
              "      <td>9</td>\n",
              "      <td>1</td>\n",
              "      <td>0</td>\n",
              "    </tr>\n",
              "  </tbody>\n",
              "</table>\n",
              "</div>\n",
              "      <button class=\"colab-df-convert\" onclick=\"convertToInteractive('df-18d96080-f693-4182-b443-0a158d86f4cf')\"\n",
              "              title=\"Convert this dataframe to an interactive table.\"\n",
              "              style=\"display:none;\">\n",
              "        \n",
              "  <svg xmlns=\"http://www.w3.org/2000/svg\" height=\"24px\"viewBox=\"0 0 24 24\"\n",
              "       width=\"24px\">\n",
              "    <path d=\"M0 0h24v24H0V0z\" fill=\"none\"/>\n",
              "    <path d=\"M18.56 5.44l.94 2.06.94-2.06 2.06-.94-2.06-.94-.94-2.06-.94 2.06-2.06.94zm-11 1L8.5 8.5l.94-2.06 2.06-.94-2.06-.94L8.5 2.5l-.94 2.06-2.06.94zm10 10l.94 2.06.94-2.06 2.06-.94-2.06-.94-.94-2.06-.94 2.06-2.06.94z\"/><path d=\"M17.41 7.96l-1.37-1.37c-.4-.4-.92-.59-1.43-.59-.52 0-1.04.2-1.43.59L10.3 9.45l-7.72 7.72c-.78.78-.78 2.05 0 2.83L4 21.41c.39.39.9.59 1.41.59.51 0 1.02-.2 1.41-.59l7.78-7.78 2.81-2.81c.8-.78.8-2.07 0-2.86zM5.41 20L4 18.59l7.72-7.72 1.47 1.35L5.41 20z\"/>\n",
              "  </svg>\n",
              "      </button>\n",
              "      \n",
              "  <style>\n",
              "    .colab-df-container {\n",
              "      display:flex;\n",
              "      flex-wrap:wrap;\n",
              "      gap: 12px;\n",
              "    }\n",
              "\n",
              "    .colab-df-convert {\n",
              "      background-color: #E8F0FE;\n",
              "      border: none;\n",
              "      border-radius: 50%;\n",
              "      cursor: pointer;\n",
              "      display: none;\n",
              "      fill: #1967D2;\n",
              "      height: 32px;\n",
              "      padding: 0 0 0 0;\n",
              "      width: 32px;\n",
              "    }\n",
              "\n",
              "    .colab-df-convert:hover {\n",
              "      background-color: #E2EBFA;\n",
              "      box-shadow: 0px 1px 2px rgba(60, 64, 67, 0.3), 0px 1px 3px 1px rgba(60, 64, 67, 0.15);\n",
              "      fill: #174EA6;\n",
              "    }\n",
              "\n",
              "    [theme=dark] .colab-df-convert {\n",
              "      background-color: #3B4455;\n",
              "      fill: #D2E3FC;\n",
              "    }\n",
              "\n",
              "    [theme=dark] .colab-df-convert:hover {\n",
              "      background-color: #434B5C;\n",
              "      box-shadow: 0px 1px 3px 1px rgba(0, 0, 0, 0.15);\n",
              "      filter: drop-shadow(0px 1px 2px rgba(0, 0, 0, 0.3));\n",
              "      fill: #FFFFFF;\n",
              "    }\n",
              "  </style>\n",
              "\n",
              "      <script>\n",
              "        const buttonEl =\n",
              "          document.querySelector('#df-18d96080-f693-4182-b443-0a158d86f4cf button.colab-df-convert');\n",
              "        buttonEl.style.display =\n",
              "          google.colab.kernel.accessAllowed ? 'block' : 'none';\n",
              "\n",
              "        async function convertToInteractive(key) {\n",
              "          const element = document.querySelector('#df-18d96080-f693-4182-b443-0a158d86f4cf');\n",
              "          const dataTable =\n",
              "            await google.colab.kernel.invokeFunction('convertToInteractive',\n",
              "                                                     [key], {});\n",
              "          if (!dataTable) return;\n",
              "\n",
              "          const docLinkHtml = 'Like what you see? Visit the ' +\n",
              "            '<a target=\"_blank\" href=https://colab.research.google.com/notebooks/data_table.ipynb>data table notebook</a>'\n",
              "            + ' to learn more about interactive tables.';\n",
              "          element.innerHTML = '';\n",
              "          dataTable['output_type'] = 'display_data';\n",
              "          await google.colab.output.renderOutput(dataTable, element);\n",
              "          const docLink = document.createElement('div');\n",
              "          docLink.innerHTML = docLinkHtml;\n",
              "          element.appendChild(docLink);\n",
              "        }\n",
              "      </script>\n",
              "    </div>\n",
              "  </div>\n",
              "  "
            ]
          },
          "metadata": {},
          "execution_count": 73
        }
      ]
    },
    {
      "cell_type": "markdown",
      "source": [
        "# **Lets start our analysis**"
      ],
      "metadata": {
        "id": "JrCU3r2_txM8"
      }
    },
    {
      "cell_type": "markdown",
      "source": [
        "# **Lets check the most no of listings in NYC .**\n",
        "\n",
        "top 5 listings on Airbnb in entire NYC:\n",
        "\n",
        "\n",
        "**what can we learn about different hosts and areas**."
      ],
      "metadata": {
        "id": "NCjcQXqh8y5Q"
      }
    },
    {
      "cell_type": "code",
      "source": [
        "plt.figure(figsize=(10,10))\n",
        "plt.title('NEIGHBOURHOOD GROUP')\n",
        "plt.pie(df.neighbourhood_group.value_counts(),labels=df.neighbourhood_group.value_counts().index,autopct='%1.1f%%',startangle=180)\n",
        "plt.show()"
      ],
      "metadata": {
        "colab": {
          "base_uri": "https://localhost:8080/",
          "height": 590
        },
        "id": "xzfMHsbRAoWJ",
        "outputId": "72ed19ad-cb42-4c73-d505-1e5c5dd50558"
      },
      "execution_count": 74,
      "outputs": [
        {
          "output_type": "display_data",
          "data": {
            "text/plain": [
              "<Figure size 720x720 with 1 Axes>"
            ],
            "image/png": "[encoded data removed]"
          },
          "metadata": {}
        }
      ]
    },
    {
      "cell_type": "markdown",
      "source": [
        "From the above pie chart we can understand that airbnb listing are near Manhattan,and brooklyn has the highest share of hotels"
      ],
      "metadata": {
        "id": "SwVk4zdQArM4"
      }
    },
    {
      "cell_type": "code",
      "source": [
        "listings_count_df=df_air['name'].value_counts()[:5].reset_index()\n",
        "listings_count_df.rename(columns={'index':'Listings on Airbnb','name':'Total_listings'},inplace=True)\n",
        "listings_count_df"
      ],
      "metadata": {
        "colab": {
          "base_uri": "https://localhost:8080/",
          "height": 206
        },
        "id": "QtxZUI778UmG",
        "outputId": "d2fafee0-2ec6-49a8-e8c0-6156dcf4ba99"
      },
      "execution_count": 75,
      "outputs": [
        {
          "output_type": "execute_result",
          "data": {
            "text/plain": [
              "             Listings on Airbnb  Total_listings\n",
              "0                Hillside Hotel              18\n",
              "1           Home away from home              17\n",
              "2                       unknown              16\n",
              "3  New york Multi-unit building              16\n",
              "4            Brooklyn Apartment              12"
            ],
            "text/html": [
              "\n",
              "  <div id=\"df-ca2dd0d7-0448-422a-ae23-59e5bc7a3977\">\n",
              "    <div class=\"colab-df-container\">\n",
              "      <div>\n",
              "<style scoped>\n",
              "    .dataframe tbody tr th:only-of-type {\n",
              "        vertical-align: middle;\n",
              "    }\n",
              "\n",
              "    .dataframe tbody tr th {\n",
              "        vertical-align: top;\n",
              "    }\n",
              "\n",
              "    .dataframe thead th {\n",
              "        text-align: right;\n",
              "    }\n",
              "</style>\n",
              "<table border=\"1\" class=\"dataframe\">\n",
              "  <thead>\n",
              "    <tr style=\"text-align: right;\">\n",
              "      <th></th>\n",
              "      <th>Listings on Airbnb</th>\n",
              "      <th>Total_listings</th>\n",
              "    </tr>\n",
              "  </thead>\n",
              "  <tbody>\n",
              "    <tr>\n",
              "      <th>0</th>\n",
              "      <td>Hillside Hotel</td>\n",
              "      <td>18</td>\n",
              "    </tr>\n",
              "    <tr>\n",
              "      <th>1</th>\n",
              "      <td>Home away from home</td>\n",
              "      <td>17</td>\n",
              "    </tr>\n",
              "    <tr>\n",
              "      <th>2</th>\n",
              "      <td>unknown</td>\n",
              "      <td>16</td>\n",
              "    </tr>\n",
              "    <tr>\n",
              "      <th>3</th>\n",
              "      <td>New york Multi-unit building</td>\n",
              "      <td>16</td>\n",
              "    </tr>\n",
              "    <tr>\n",
              "      <th>4</th>\n",
              "      <td>Brooklyn Apartment</td>\n",
              "      <td>12</td>\n",
              "    </tr>\n",
              "  </tbody>\n",
              "</table>\n",
              "</div>\n",
              "      <button class=\"colab-df-convert\" onclick=\"convertToInteractive('df-ca2dd0d7-0448-422a-ae23-59e5bc7a3977')\"\n",
              "              title=\"Convert this dataframe to an interactive table.\"\n",
              "              style=\"display:none;\">\n",
              "        \n",
              "  <svg xmlns=\"http://www.w3.org/2000/svg\" height=\"24px\"viewBox=\"0 0 24 24\"\n",
              "       width=\"24px\">\n",
              "    <path d=\"M0 0h24v24H0V0z\" fill=\"none\"/>\n",
              "    <path d=\"M18.56 5.44l.94 2.06.94-2.06 2.06-.94-2.06-.94-.94-2.06-.94 2.06-2.06.94zm-11 1L8.5 8.5l.94-2.06 2.06-.94-2.06-.94L8.5 2.5l-.94 2.06-2.06.94zm10 10l.94 2.06.94-2.06 2.06-.94-2.06-.94-.94-2.06-.94 2.06-2.06.94z\"/><path d=\"M17.41 7.96l-1.37-1.37c-.4-.4-.92-.59-1.43-.59-.52 0-1.04.2-1.43.59L10.3 9.45l-7.72 7.72c-.78.78-.78 2.05 0 2.83L4 21.41c.39.39.9.59 1.41.59.51 0 1.02-.2 1.41-.59l7.78-7.78 2.81-2.81c.8-.78.8-2.07 0-2.86zM5.41 20L4 18.59l7.72-7.72 1.47 1.35L5.41 20z\"/>\n",
              "  </svg>\n",
              "      </button>\n",
              "      \n",
              "  <style>\n",
              "    .colab-df-container {\n",
              "      display:flex;\n",
              "      flex-wrap:wrap;\n",
              "      gap: 12px;\n",
              "    }\n",
              "\n",
              "    .colab-df-convert {\n",
              "      background-color: #E8F0FE;\n",
              "      border: none;\n",
              "      border-radius: 50%;\n",
              "      cursor: pointer;\n",
              "      display: none;\n",
              "      fill: #1967D2;\n",
              "      height: 32px;\n",
              "      padding: 0 0 0 0;\n",
              "      width: 32px;\n",
              "    }\n",
              "\n",
              "    .colab-df-convert:hover {\n",
              "      background-color: #E2EBFA;\n",
              "      box-shadow: 0px 1px 2px rgba(60, 64, 67, 0.3), 0px 1px 3px 1px rgba(60, 64, 67, 0.15);\n",
              "      fill: #174EA6;\n",
              "    }\n",
              "\n",
              "    [theme=dark] .colab-df-convert {\n",
              "      background-color: #3B4455;\n",
              "      fill: #D2E3FC;\n",
              "    }\n",
              "\n",
              "    [theme=dark] .colab-df-convert:hover {\n",
              "      background-color: #434B5C;\n",
              "      box-shadow: 0px 1px 3px 1px rgba(0, 0, 0, 0.15);\n",
              "      filter: drop-shadow(0px 1px 2px rgba(0, 0, 0, 0.3));\n",
              "      fill: #FFFFFF;\n",
              "    }\n",
              "  </style>\n",
              "\n",
              "      <script>\n",
              "        const buttonEl =\n",
              "          document.querySelector('#df-ca2dd0d7-0448-422a-ae23-59e5bc7a3977 button.colab-df-convert');\n",
              "        buttonEl.style.display =\n",
              "          google.colab.kernel.accessAllowed ? 'block' : 'none';\n",
              "\n",
              "        async function convertToInteractive(key) {\n",
              "          const element = document.querySelector('#df-ca2dd0d7-0448-422a-ae23-59e5bc7a3977');\n",
              "          const dataTable =\n",
              "            await google.colab.kernel.invokeFunction('convertToInteractive',\n",
              "                                                     [key], {});\n",
              "          if (!dataTable) return;\n",
              "\n",
              "          const docLinkHtml = 'Like what you see? Visit the ' +\n",
              "            '<a target=\"_blank\" href=https://colab.research.google.com/notebooks/data_table.ipynb>data table notebook</a>'\n",
              "            + ' to learn more about interactive tables.';\n",
              "          element.innerHTML = '';\n",
              "          dataTable['output_type'] = 'display_data';\n",
              "          await google.colab.output.renderOutput(dataTable, element);\n",
              "          const docLink = document.createElement('div');\n",
              "          docLink.innerHTML = docLinkHtml;\n",
              "          element.appendChild(docLink);\n",
              "        }\n",
              "      </script>\n",
              "    </div>\n",
              "  </div>\n",
              "  "
            ]
          },
          "metadata": {},
          "execution_count": 75
        }
      ]
    },
    {
      "cell_type": "markdown",
      "source": [
        "from the above table we found that hillside hotel have more listing in entire NYC followed by home away from home , New york Multi-unit building,\n",
        "Brooklyn Apartment\t,Loft Suite @ The Box House Hotel\t"
      ],
      "metadata": {
        "id": "dyqauF3R_5mZ"
      }
    },
    {
      "cell_type": "code",
      "source": [
        "top_10_hosts=df_air['host_name'].value_counts()[:10].reset_index()\n",
        "top_10_hosts.rename(columns={'index':'host_name','host_name':'no-of-property'},inplace=True)\n",
        "\n",
        "top_10_hosts"
      ],
      "metadata": {
        "colab": {
          "base_uri": "https://localhost:8080/",
          "height": 362
        },
        "id": "UR9ODDTc_ys4",
        "outputId": "669636dc-40af-4cef-9a83-9b2b5bc56cb3"
      },
      "execution_count": 76,
      "outputs": [
        {
          "output_type": "execute_result",
          "data": {
            "text/plain": [
              "      host_name  no-of-property\n",
              "0       Michael             417\n",
              "1         David             403\n",
              "2  Sonder (NYC)             327\n",
              "3          John             294\n",
              "4          Alex             279\n",
              "5    Blueground             232\n",
              "6         Sarah             227\n",
              "7        Daniel             226\n",
              "8       Jessica             205\n",
              "9         Maria             204"
            ],
            "text/html": [
              "\n",
              "  <div id=\"df-8e4d395f-136f-47f9-b84d-553bf6d28366\">\n",
              "    <div class=\"colab-df-container\">\n",
              "      <div>\n",
              "<style scoped>\n",
              "    .dataframe tbody tr th:only-of-type {\n",
              "        vertical-align: middle;\n",
              "    }\n",
              "\n",
              "    .dataframe tbody tr th {\n",
              "        vertical-align: top;\n",
              "    }\n",
              "\n",
              "    .dataframe thead th {\n",
              "        text-align: right;\n",
              "    }\n",
              "</style>\n",
              "<table border=\"1\" class=\"dataframe\">\n",
              "  <thead>\n",
              "    <tr style=\"text-align: right;\">\n",
              "      <th></th>\n",
              "      <th>host_name</th>\n",
              "      <th>no-of-property</th>\n",
              "    </tr>\n",
              "  </thead>\n",
              "  <tbody>\n",
              "    <tr>\n",
              "      <th>0</th>\n",
              "      <td>Michael</td>\n",
              "      <td>417</td>\n",
              "    </tr>\n",
              "    <tr>\n",
              "      <th>1</th>\n",
              "      <td>David</td>\n",
              "      <td>403</td>\n",
              "    </tr>\n",
              "    <tr>\n",
              "      <th>2</th>\n",
              "      <td>Sonder (NYC)</td>\n",
              "      <td>327</td>\n",
              "    </tr>\n",
              "    <tr>\n",
              "      <th>3</th>\n",
              "      <td>John</td>\n",
              "      <td>294</td>\n",
              "    </tr>\n",
              "    <tr>\n",
              "      <th>4</th>\n",
              "      <td>Alex</td>\n",
              "      <td>279</td>\n",
              "    </tr>\n",
              "    <tr>\n",
              "      <th>5</th>\n",
              "      <td>Blueground</td>\n",
              "      <td>232</td>\n",
              "    </tr>\n",
              "    <tr>\n",
              "      <th>6</th>\n",
              "      <td>Sarah</td>\n",
              "      <td>227</td>\n",
              "    </tr>\n",
              "    <tr>\n",
              "      <th>7</th>\n",
              "      <td>Daniel</td>\n",
              "      <td>226</td>\n",
              "    </tr>\n",
              "    <tr>\n",
              "      <th>8</th>\n",
              "      <td>Jessica</td>\n",
              "      <td>205</td>\n",
              "    </tr>\n",
              "    <tr>\n",
              "      <th>9</th>\n",
              "      <td>Maria</td>\n",
              "      <td>204</td>\n",
              "    </tr>\n",
              "  </tbody>\n",
              "</table>\n",
              "</div>\n",
              "      <button class=\"colab-df-convert\" onclick=\"convertToInteractive('df-8e4d395f-136f-47f9-b84d-553bf6d28366')\"\n",
              "              title=\"Convert this dataframe to an interactive table.\"\n",
              "              style=\"display:none;\">\n",
              "        \n",
              "  <svg xmlns=\"http://www.w3.org/2000/svg\" height=\"24px\"viewBox=\"0 0 24 24\"\n",
              "       width=\"24px\">\n",
              "    <path d=\"M0 0h24v24H0V0z\" fill=\"none\"/>\n",
              "    <path d=\"M18.56 5.44l.94 2.06.94-2.06 2.06-.94-2.06-.94-.94-2.06-.94 2.06-2.06.94zm-11 1L8.5 8.5l.94-2.06 2.06-.94-2.06-.94L8.5 2.5l-.94 2.06-2.06.94zm10 10l.94 2.06.94-2.06 2.06-.94-2.06-.94-.94-2.06-.94 2.06-2.06.94z\"/><path d=\"M17.41 7.96l-1.37-1.37c-.4-.4-.92-.59-1.43-.59-.52 0-1.04.2-1.43.59L10.3 9.45l-7.72 7.72c-.78.78-.78 2.05 0 2.83L4 21.41c.39.39.9.59 1.41.59.51 0 1.02-.2 1.41-.59l7.78-7.78 2.81-2.81c.8-.78.8-2.07 0-2.86zM5.41 20L4 18.59l7.72-7.72 1.47 1.35L5.41 20z\"/>\n",
              "  </svg>\n",
              "      </button>\n",
              "      \n",
              "  <style>\n",
              "    .colab-df-container {\n",
              "      display:flex;\n",
              "      flex-wrap:wrap;\n",
              "      gap: 12px;\n",
              "    }\n",
              "\n",
              "    .colab-df-convert {\n",
              "      background-color: #E8F0FE;\n",
              "      border: none;\n",
              "      border-radius: 50%;\n",
              "      cursor: pointer;\n",
              "      display: none;\n",
              "      fill: #1967D2;\n",
              "      height: 32px;\n",
              "      padding: 0 0 0 0;\n",
              "      width: 32px;\n",
              "    }\n",
              "\n",
              "    .colab-df-convert:hover {\n",
              "      background-color: #E2EBFA;\n",
              "      box-shadow: 0px 1px 2px rgba(60, 64, 67, 0.3), 0px 1px 3px 1px rgba(60, 64, 67, 0.15);\n",
              "      fill: #174EA6;\n",
              "    }\n",
              "\n",
              "    [theme=dark] .colab-df-convert {\n",
              "      background-color: #3B4455;\n",
              "      fill: #D2E3FC;\n",
              "    }\n",
              "\n",
              "    [theme=dark] .colab-df-convert:hover {\n",
              "      background-color: #434B5C;\n",
              "      box-shadow: 0px 1px 3px 1px rgba(0, 0, 0, 0.15);\n",
              "      filter: drop-shadow(0px 1px 2px rgba(0, 0, 0, 0.3));\n",
              "      fill: #FFFFFF;\n",
              "    }\n",
              "  </style>\n",
              "\n",
              "      <script>\n",
              "        const buttonEl =\n",
              "          document.querySelector('#df-8e4d395f-136f-47f9-b84d-553bf6d28366 button.colab-df-convert');\n",
              "        buttonEl.style.display =\n",
              "          google.colab.kernel.accessAllowed ? 'block' : 'none';\n",
              "\n",
              "        async function convertToInteractive(key) {\n",
              "          const element = document.querySelector('#df-8e4d395f-136f-47f9-b84d-553bf6d28366');\n",
              "          const dataTable =\n",
              "            await google.colab.kernel.invokeFunction('convertToInteractive',\n",
              "                                                     [key], {});\n",
              "          if (!dataTable) return;\n",
              "\n",
              "          const docLinkHtml = 'Like what you see? Visit the ' +\n",
              "            '<a target=\"_blank\" href=https://colab.research.google.com/notebooks/data_table.ipynb>data table notebook</a>'\n",
              "            + ' to learn more about interactive tables.';\n",
              "          element.innerHTML = '';\n",
              "          dataTable['output_type'] = 'display_data';\n",
              "          await google.colab.output.renderOutput(dataTable, element);\n",
              "          const docLink = document.createElement('div');\n",
              "          docLink.innerHTML = docLinkHtml;\n",
              "          element.appendChild(docLink);\n",
              "        }\n",
              "      </script>\n",
              "    </div>\n",
              "  </div>\n",
              "  "
            ]
          },
          "metadata": {},
          "execution_count": 76
        }
      ]
    },
    {
      "cell_type": "code",
      "source": [
        "plt.figure(figsize=(10,5))\n",
        "df_h=df[df_air['host_name']=='Michael']\n",
        "host_listings=df_h.groupby(['neighbourhood_group'])['name'].count()\n",
        "host_listings.plot(kind='bar')\n",
        "plt.title(label=\"Top host listings across the city-michael's\")\n",
        "plt.xlabel(xlabel='Neighbourhood_group')\n",
        "plt.ylabel(ylabel='Number of listings')"
      ],
      "metadata": {
        "colab": {
          "base_uri": "https://localhost:8080/",
          "height": 424
        },
        "id": "NAlTEngTM1hq",
        "outputId": "c5944891-ed44-4a3c-d5e0-a8a3d583091e"
      },
      "execution_count": 77,
      "outputs": [
        {
          "output_type": "execute_result",
          "data": {
            "text/plain": [
              "Text(0, 0.5, 'Number of listings')"
            ]
          },
          "metadata": {},
          "execution_count": 77
        },
        {
          "output_type": "display_data",
          "data": {
            "text/plain": [
              "<Figure size 720x360 with 1 Axes>"
            ],
            "image/png": "[encoded data removed]"
          },
          "metadata": {
            "needs_background": "light"
          }
        }
      ]
    },
    {
      "cell_type": "markdown",
      "source": [
        "top host is michael and most of the michaels properties located in manhattan"
      ],
      "metadata": {
        "id": "qfiszUJhRhI-"
      }
    },
    {
      "cell_type": "code",
      "source": [
        "df_air['neighbourhood_group'].value_counts().plot(kind='bar',color='maroon')\n",
        "plt.xlabel('NEIGHBOURHOOD GROUP')\n",
        "plt.ylabel('TOTAL NYC LISTING')\n",
        "plt.title('NO  OF LISTING IN ENTIRE NYC OF EACH NEIGHBOURHOOD GROUP')"
      ],
      "metadata": {
        "colab": {
          "base_uri": "https://localhost:8080/",
          "height": 368
        },
        "id": "IofxIbt1AlBU",
        "outputId": "0acb3c7d-6121-44b6-bc4a-ebdd3445791b"
      },
      "execution_count": 78,
      "outputs": [
        {
          "output_type": "execute_result",
          "data": {
            "text/plain": [
              "Text(0.5, 1.0, 'NO  OF LISTING IN ENTIRE NYC OF EACH NEIGHBOURHOOD GROUP')"
            ]
          },
          "metadata": {},
          "execution_count": 78
        },
        {
          "output_type": "display_data",
          "data": {
            "text/plain": [
              "<Figure size 432x288 with 1 Axes>"
            ],
            "image/png": "[encoded data removed]"
          },
          "metadata": {
            "needs_background": "light"
          }
        }
      ]
    },
    {
      "cell_type": "markdown",
      "source": [
        "most no of listings in entire nyc of each neighbourhood is manhattan"
      ],
      "metadata": {
        "id": "eoMBypG2owY_"
      }
    },
    {
      "cell_type": "code",
      "source": [
        "plt.rcParams['figure.figsize'] = (10,5)\n",
        "ax= sns.countplot(y='room_type',hue='neighbourhood_group',data=df_air,palette='bright')\n",
        "\n",
        "total = len(df_air['room_type'])\n",
        "for p in ax.patches:\n",
        "        percentage = '{:.1f}%'.format(100 * p.get_width()/total)\n",
        "        x = p.get_x() + p.get_width() + 0.02\n",
        "        y = p.get_y() + p.get_height()/2\n",
        "        ax.annotate(percentage, (x, y))\n",
        "\n",
        "plt.title('count of each room types in entire NYC')\n",
        "plt.xlabel('Rooms')\n",
        "plt.xticks(rotation=90)\n",
        "plt.ylabel('Room Counts')\n",
        "\n",
        "plt.show()"
      ],
      "metadata": {
        "colab": {
          "base_uri": "https://localhost:8080/",
          "height": 370
        },
        "id": "MF0E2nPHFNjP",
        "outputId": "1c806812-3ec7-41b2-b38e-2b45e7793d61"
      },
      "execution_count": 79,
      "outputs": [
        {
          "output_type": "display_data",
          "data": {
            "text/plain": [
              "<Figure size 720x360 with 1 Axes>"
            ],
            "image/png": "[encoded data removed]"
          },
          "metadata": {
            "needs_background": "light"
          }
        }
      ]
    },
    {
      "cell_type": "markdown",
      "source": [
        "From the above graph we observe that Manhattan has more listed properties with entire home/apt around 27% of total listed properties followed by bookklyn with around 19.6%\n",
        "\n",
        "in case of private room , in booklyn its 20.7% of the ttal listed properties followed by manhattan with 16.3% . while 6.9% of private rooms are from Queens \n",
        "\n",
        "Only a few of the total listed have shared rooms listed on Airbnb where there's rare or negligible shared rooms in  Staten Island and Bronx.\n",
        "\n",
        "from the above findings , we understand that Brooklyn , Queens,Bronx has more private room types while Manhattan has the highest no of listings in entire NYC (ie more entire home/apt room types )"
      ],
      "metadata": {
        "id": "oYhU1Yk_FWC9"
      }
    },
    {
      "cell_type": "code",
      "source": [
        "hosts_areas = df.groupby(['host_name','neighbourhood_group'])['calculated_host_listings_count'].max().reset_index()\n",
        "hosts_areas.nlargest(10,'calculated_host_listings_count').reset_index(drop=True)"
      ],
      "metadata": {
        "colab": {
          "base_uri": "https://localhost:8080/",
          "height": 362
        },
        "id": "9dHAoXRVW4SJ",
        "outputId": "92d23c4f-1b9c-4d74-aad2-2a6412674bd8"
      },
      "execution_count": 80,
      "outputs": [
        {
          "output_type": "execute_result",
          "data": {
            "text/plain": [
              "           host_name neighbourhood_group  calculated_host_listings_count\n",
              "0       Sonder (NYC)           Manhattan                             327\n",
              "1         Blueground            Brooklyn                             232\n",
              "2         Blueground           Manhattan                             232\n",
              "3               Kara           Manhattan                             121\n",
              "4             Kazuya            Brooklyn                             103\n",
              "5             Kazuya           Manhattan                             103\n",
              "6             Kazuya              Queens                             103\n",
              "7     Jeremy & Laura           Manhattan                              96\n",
              "8             Sonder           Manhattan                              96\n",
              "9  Corporate Housing           Manhattan                              91"
            ],
            "text/html": [
              "\n",
              "  <div id=\"df-631a0df3-6939-4b83-a041-0025a59e6863\">\n",
              "    <div class=\"colab-df-container\">\n",
              "      <div>\n",
              "<style scoped>\n",
              "    .dataframe tbody tr th:only-of-type {\n",
              "        vertical-align: middle;\n",
              "    }\n",
              "\n",
              "    .dataframe tbody tr th {\n",
              "        vertical-align: top;\n",
              "    }\n",
              "\n",
              "    .dataframe thead th {\n",
              "        text-align: right;\n",
              "    }\n",
              "</style>\n",
              "<table border=\"1\" class=\"dataframe\">\n",
              "  <thead>\n",
              "    <tr style=\"text-align: right;\">\n",
              "      <th></th>\n",
              "      <th>host_name</th>\n",
              "      <th>neighbourhood_group</th>\n",
              "      <th>calculated_host_listings_count</th>\n",
              "    </tr>\n",
              "  </thead>\n",
              "  <tbody>\n",
              "    <tr>\n",
              "      <th>0</th>\n",
              "      <td>Sonder (NYC)</td>\n",
              "      <td>Manhattan</td>\n",
              "      <td>327</td>\n",
              "    </tr>\n",
              "    <tr>\n",
              "      <th>1</th>\n",
              "      <td>Blueground</td>\n",
              "      <td>Brooklyn</td>\n",
              "      <td>232</td>\n",
              "    </tr>\n",
              "    <tr>\n",
              "      <th>2</th>\n",
              "      <td>Blueground</td>\n",
              "      <td>Manhattan</td>\n",
              "      <td>232</td>\n",
              "    </tr>\n",
              "    <tr>\n",
              "      <th>3</th>\n",
              "      <td>Kara</td>\n",
              "      <td>Manhattan</td>\n",
              "      <td>121</td>\n",
              "    </tr>\n",
              "    <tr>\n",
              "      <th>4</th>\n",
              "      <td>Kazuya</td>\n",
              "      <td>Brooklyn</td>\n",
              "      <td>103</td>\n",
              "    </tr>\n",
              "    <tr>\n",
              "      <th>5</th>\n",
              "      <td>Kazuya</td>\n",
              "      <td>Manhattan</td>\n",
              "      <td>103</td>\n",
              "    </tr>\n",
              "    <tr>\n",
              "      <th>6</th>\n",
              "      <td>Kazuya</td>\n",
              "      <td>Queens</td>\n",
              "      <td>103</td>\n",
              "    </tr>\n",
              "    <tr>\n",
              "      <th>7</th>\n",
              "      <td>Jeremy &amp; Laura</td>\n",
              "      <td>Manhattan</td>\n",
              "      <td>96</td>\n",
              "    </tr>\n",
              "    <tr>\n",
              "      <th>8</th>\n",
              "      <td>Sonder</td>\n",
              "      <td>Manhattan</td>\n",
              "      <td>96</td>\n",
              "    </tr>\n",
              "    <tr>\n",
              "      <th>9</th>\n",
              "      <td>Corporate Housing</td>\n",
              "      <td>Manhattan</td>\n",
              "      <td>91</td>\n",
              "    </tr>\n",
              "  </tbody>\n",
              "</table>\n",
              "</div>\n",
              "      <button class=\"colab-df-convert\" onclick=\"convertToInteractive('df-631a0df3-6939-4b83-a041-0025a59e6863')\"\n",
              "              title=\"Convert this dataframe to an interactive table.\"\n",
              "              style=\"display:none;\">\n",
              "        \n",
              "  <svg xmlns=\"http://www.w3.org/2000/svg\" height=\"24px\"viewBox=\"0 0 24 24\"\n",
              "       width=\"24px\">\n",
              "    <path d=\"M0 0h24v24H0V0z\" fill=\"none\"/>\n",
              "    <path d=\"M18.56 5.44l.94 2.06.94-2.06 2.06-.94-2.06-.94-.94-2.06-.94 2.06-2.06.94zm-11 1L8.5 8.5l.94-2.06 2.06-.94-2.06-.94L8.5 2.5l-.94 2.06-2.06.94zm10 10l.94 2.06.94-2.06 2.06-.94-2.06-.94-.94-2.06-.94 2.06-2.06.94z\"/><path d=\"M17.41 7.96l-1.37-1.37c-.4-.4-.92-.59-1.43-.59-.52 0-1.04.2-1.43.59L10.3 9.45l-7.72 7.72c-.78.78-.78 2.05 0 2.83L4 21.41c.39.39.9.59 1.41.59.51 0 1.02-.2 1.41-.59l7.78-7.78 2.81-2.81c.8-.78.8-2.07 0-2.86zM5.41 20L4 18.59l7.72-7.72 1.47 1.35L5.41 20z\"/>\n",
              "  </svg>\n",
              "      </button>\n",
              "      \n",
              "  <style>\n",
              "    .colab-df-container {\n",
              "      display:flex;\n",
              "      flex-wrap:wrap;\n",
              "      gap: 12px;\n",
              "    }\n",
              "\n",
              "    .colab-df-convert {\n",
              "      background-color: #E8F0FE;\n",
              "      border: none;\n",
              "      border-radius: 50%;\n",
              "      cursor: pointer;\n",
              "      display: none;\n",
              "      fill: #1967D2;\n",
              "      height: 32px;\n",
              "      padding: 0 0 0 0;\n",
              "      width: 32px;\n",
              "    }\n",
              "\n",
              "    .colab-df-convert:hover {\n",
              "      background-color: #E2EBFA;\n",
              "      box-shadow: 0px 1px 2px rgba(60, 64, 67, 0.3), 0px 1px 3px 1px rgba(60, 64, 67, 0.15);\n",
              "      fill: #174EA6;\n",
              "    }\n",
              "\n",
              "    [theme=dark] .colab-df-convert {\n",
              "      background-color: #3B4455;\n",
              "      fill: #D2E3FC;\n",
              "    }\n",
              "\n",
              "    [theme=dark] .colab-df-convert:hover {\n",
              "      background-color: #434B5C;\n",
              "      box-shadow: 0px 1px 3px 1px rgba(0, 0, 0, 0.15);\n",
              "      filter: drop-shadow(0px 1px 2px rgba(0, 0, 0, 0.3));\n",
              "      fill: #FFFFFF;\n",
              "    }\n",
              "  </style>\n",
              "\n",
              "      <script>\n",
              "        const buttonEl =\n",
              "          document.querySelector('#df-631a0df3-6939-4b83-a041-0025a59e6863 button.colab-df-convert');\n",
              "        buttonEl.style.display =\n",
              "          google.colab.kernel.accessAllowed ? 'block' : 'none';\n",
              "\n",
              "        async function convertToInteractive(key) {\n",
              "          const element = document.querySelector('#df-631a0df3-6939-4b83-a041-0025a59e6863');\n",
              "          const dataTable =\n",
              "            await google.colab.kernel.invokeFunction('convertToInteractive',\n",
              "                                                     [key], {});\n",
              "          if (!dataTable) return;\n",
              "\n",
              "          const docLinkHtml = 'Like what you see? Visit the ' +\n",
              "            '<a target=\"_blank\" href=https://colab.research.google.com/notebooks/data_table.ipynb>data table notebook</a>'\n",
              "            + ' to learn more about interactive tables.';\n",
              "          element.innerHTML = '';\n",
              "          dataTable['output_type'] = 'display_data';\n",
              "          await google.colab.output.renderOutput(dataTable, element);\n",
              "          const docLink = document.createElement('div');\n",
              "          docLink.innerHTML = docLinkHtml;\n",
              "          element.appendChild(docLink);\n",
              "        }\n",
              "      </script>\n",
              "    </div>\n",
              "  </div>\n",
              "  "
            ]
          },
          "metadata": {},
          "execution_count": 80
        }
      ]
    },
    {
      "cell_type": "code",
      "source": [
        "hosts_areas.nsmallest(5,'calculated_host_listings_count').reset_index(drop=True)"
      ],
      "metadata": {
        "colab": {
          "base_uri": "https://localhost:8080/",
          "height": 206
        },
        "id": "5R3TXTnSf6uQ",
        "outputId": "fd5cbd59-2454-45e1-9a98-1862a763f242"
      },
      "execution_count": 81,
      "outputs": [
        {
          "output_type": "execute_result",
          "data": {
            "text/plain": [
              "                  host_name neighbourhood_group  \\\n",
              "0                      'Cil              Queens   \n",
              "1           (Ari) HENRY LEE           Manhattan   \n",
              "2  (Email hidden by Airbnb)            Brooklyn   \n",
              "3               (Mary) Haiy            Brooklyn   \n",
              "4       -TheQueensCornerLot              Queens   \n",
              "\n",
              "   calculated_host_listings_count  \n",
              "0                               1  \n",
              "1                               1  \n",
              "2                               1  \n",
              "3                               1  \n",
              "4                               1  "
            ],
            "text/html": [
              "\n",
              "  <div id=\"df-2ce9b2a1-69ab-452f-a0ee-d17aad211c5b\">\n",
              "    <div class=\"colab-df-container\">\n",
              "      <div>\n",
              "<style scoped>\n",
              "    .dataframe tbody tr th:only-of-type {\n",
              "        vertical-align: middle;\n",
              "    }\n",
              "\n",
              "    .dataframe tbody tr th {\n",
              "        vertical-align: top;\n",
              "    }\n",
              "\n",
              "    .dataframe thead th {\n",
              "        text-align: right;\n",
              "    }\n",
              "</style>\n",
              "<table border=\"1\" class=\"dataframe\">\n",
              "  <thead>\n",
              "    <tr style=\"text-align: right;\">\n",
              "      <th></th>\n",
              "      <th>host_name</th>\n",
              "      <th>neighbourhood_group</th>\n",
              "      <th>calculated_host_listings_count</th>\n",
              "    </tr>\n",
              "  </thead>\n",
              "  <tbody>\n",
              "    <tr>\n",
              "      <th>0</th>\n",
              "      <td>'Cil</td>\n",
              "      <td>Queens</td>\n",
              "      <td>1</td>\n",
              "    </tr>\n",
              "    <tr>\n",
              "      <th>1</th>\n",
              "      <td>(Ari) HENRY LEE</td>\n",
              "      <td>Manhattan</td>\n",
              "      <td>1</td>\n",
              "    </tr>\n",
              "    <tr>\n",
              "      <th>2</th>\n",
              "      <td>(Email hidden by Airbnb)</td>\n",
              "      <td>Brooklyn</td>\n",
              "      <td>1</td>\n",
              "    </tr>\n",
              "    <tr>\n",
              "      <th>3</th>\n",
              "      <td>(Mary) Haiy</td>\n",
              "      <td>Brooklyn</td>\n",
              "      <td>1</td>\n",
              "    </tr>\n",
              "    <tr>\n",
              "      <th>4</th>\n",
              "      <td>-TheQueensCornerLot</td>\n",
              "      <td>Queens</td>\n",
              "      <td>1</td>\n",
              "    </tr>\n",
              "  </tbody>\n",
              "</table>\n",
              "</div>\n",
              "      <button class=\"colab-df-convert\" onclick=\"convertToInteractive('df-2ce9b2a1-69ab-452f-a0ee-d17aad211c5b')\"\n",
              "              title=\"Convert this dataframe to an interactive table.\"\n",
              "              style=\"display:none;\">\n",
              "        \n",
              "  <svg xmlns=\"http://www.w3.org/2000/svg\" height=\"24px\"viewBox=\"0 0 24 24\"\n",
              "       width=\"24px\">\n",
              "    <path d=\"M0 0h24v24H0V0z\" fill=\"none\"/>\n",
              "    <path d=\"M18.56 5.44l.94 2.06.94-2.06 2.06-.94-2.06-.94-.94-2.06-.94 2.06-2.06.94zm-11 1L8.5 8.5l.94-2.06 2.06-.94-2.06-.94L8.5 2.5l-.94 2.06-2.06.94zm10 10l.94 2.06.94-2.06 2.06-.94-2.06-.94-.94-2.06-.94 2.06-2.06.94z\"/><path d=\"M17.41 7.96l-1.37-1.37c-.4-.4-.92-.59-1.43-.59-.52 0-1.04.2-1.43.59L10.3 9.45l-7.72 7.72c-.78.78-.78 2.05 0 2.83L4 21.41c.39.39.9.59 1.41.59.51 0 1.02-.2 1.41-.59l7.78-7.78 2.81-2.81c.8-.78.8-2.07 0-2.86zM5.41 20L4 18.59l7.72-7.72 1.47 1.35L5.41 20z\"/>\n",
              "  </svg>\n",
              "      </button>\n",
              "      \n",
              "  <style>\n",
              "    .colab-df-container {\n",
              "      display:flex;\n",
              "      flex-wrap:wrap;\n",
              "      gap: 12px;\n",
              "    }\n",
              "\n",
              "    .colab-df-convert {\n",
              "      background-color: #E8F0FE;\n",
              "      border: none;\n",
              "      border-radius: 50%;\n",
              "      cursor: pointer;\n",
              "      display: none;\n",
              "      fill: #1967D2;\n",
              "      height: 32px;\n",
              "      padding: 0 0 0 0;\n",
              "      width: 32px;\n",
              "    }\n",
              "\n",
              "    .colab-df-convert:hover {\n",
              "      background-color: #E2EBFA;\n",
              "      box-shadow: 0px 1px 2px rgba(60, 64, 67, 0.3), 0px 1px 3px 1px rgba(60, 64, 67, 0.15);\n",
              "      fill: #174EA6;\n",
              "    }\n",
              "\n",
              "    [theme=dark] .colab-df-convert {\n",
              "      background-color: #3B4455;\n",
              "      fill: #D2E3FC;\n",
              "    }\n",
              "\n",
              "    [theme=dark] .colab-df-convert:hover {\n",
              "      background-color: #434B5C;\n",
              "      box-shadow: 0px 1px 3px 1px rgba(0, 0, 0, 0.15);\n",
              "      filter: drop-shadow(0px 1px 2px rgba(0, 0, 0, 0.3));\n",
              "      fill: #FFFFFF;\n",
              "    }\n",
              "  </style>\n",
              "\n",
              "      <script>\n",
              "        const buttonEl =\n",
              "          document.querySelector('#df-2ce9b2a1-69ab-452f-a0ee-d17aad211c5b button.colab-df-convert');\n",
              "        buttonEl.style.display =\n",
              "          google.colab.kernel.accessAllowed ? 'block' : 'none';\n",
              "\n",
              "        async function convertToInteractive(key) {\n",
              "          const element = document.querySelector('#df-2ce9b2a1-69ab-452f-a0ee-d17aad211c5b');\n",
              "          const dataTable =\n",
              "            await google.colab.kernel.invokeFunction('convertToInteractive',\n",
              "                                                     [key], {});\n",
              "          if (!dataTable) return;\n",
              "\n",
              "          const docLinkHtml = 'Like what you see? Visit the ' +\n",
              "            '<a target=\"_blank\" href=https://colab.research.google.com/notebooks/data_table.ipynb>data table notebook</a>'\n",
              "            + ' to learn more about interactive tables.';\n",
              "          element.innerHTML = '';\n",
              "          dataTable['output_type'] = 'display_data';\n",
              "          await google.colab.output.renderOutput(dataTable, element);\n",
              "          const docLink = document.createElement('div');\n",
              "          docLink.innerHTML = docLinkHtml;\n",
              "          element.appendChild(docLink);\n",
              "        }\n",
              "      </script>\n",
              "    </div>\n",
              "  </div>\n",
              "  "
            ]
          },
          "metadata": {},
          "execution_count": 81
        }
      ]
    },
    {
      "cell_type": "code",
      "source": [
        "df_plot = df.drop(['host_name'],axis=1)"
      ],
      "metadata": {
        "id": "DBS9TndKPm7I"
      },
      "execution_count": 82,
      "outputs": []
    },
    {
      "cell_type": "code",
      "source": [
        "explode =(0,0,0.05,0,0)\n",
        "df_plot.groupby(['neighbourhood_group']).max().plot(kind='pie', explode=explode ,figsize=(10,10) ,y='calculated_host_listings_count',shadow=True,startangle=90,autopct='%1.0f%%',title= 'NEIGHBOURHOOD GROUP VS HOST LISTING')\n",
        "plt.figure(figsize=(10,10))"
      ],
      "metadata": {
        "colab": {
          "base_uri": "https://localhost:8080/",
          "height": 625
        },
        "id": "Sc9blSO9P4Ko",
        "outputId": "73286cdd-0396-42bd-cc0a-ad49e754a73b"
      },
      "execution_count": 83,
      "outputs": [
        {
          "output_type": "execute_result",
          "data": {
            "text/plain": [
              "<Figure size 720x720 with 0 Axes>"
            ]
          },
          "metadata": {},
          "execution_count": 83
        },
        {
          "output_type": "display_data",
          "data": {
            "text/plain": [
              "<Figure size 720x720 with 1 Axes>"
            ],
            "image/png": "[encoded data removed]"
          },
          "metadata": {}
        },
        {
          "output_type": "display_data",
          "data": {
            "text/plain": [
              "<Figure size 720x720 with 0 Axes>"
            ]
          },
          "metadata": {}
        }
      ]
    },
    {
      "cell_type": "markdown",
      "source": [
        "from the above table we can understand that the most number of listings are from **manhattan **\n",
        "\n",
        "also this pie  chart shows most number of host listing are in manhattan followed by brooklyn \n",
        "\n",
        "\n",
        "\n"
      ],
      "metadata": {
        "id": "LWbSr7gt-fzn"
      }
    },
    {
      "cell_type": "markdown",
      "source": [
        "# **what can we learn from predictions ?**\n",
        "# **locations , prices, reviews, etc...**\n",
        "\n",
        "\n"
      ],
      "metadata": {
        "id": "ODLYeIBQECkM"
      }
    },
    {
      "cell_type": "code",
      "source": [
        "areas_reviews = df.groupby(['neighbourhood_group'])['number_of_reviews'].max().reset_index()\n",
        "areas_reviews.sort_values(by='number_of_reviews',ascending=False).head(5)"
      ],
      "metadata": {
        "colab": {
          "base_uri": "https://localhost:8080/",
          "height": 206
        },
        "id": "6aTB5RcmD7pO",
        "outputId": "b34450ba-7172-4070-e31d-30eb91a471ab"
      },
      "execution_count": 84,
      "outputs": [
        {
          "output_type": "execute_result",
          "data": {
            "text/plain": [
              "  neighbourhood_group  number_of_reviews\n",
              "3              Queens                629\n",
              "2           Manhattan                607\n",
              "1            Brooklyn                488\n",
              "4       Staten Island                333\n",
              "0               Bronx                321"
            ],
            "text/html": [
              "\n",
              "  <div id=\"df-4223175f-c0af-49f3-a51f-03c560a103a0\">\n",
              "    <div class=\"colab-df-container\">\n",
              "      <div>\n",
              "<style scoped>\n",
              "    .dataframe tbody tr th:only-of-type {\n",
              "        vertical-align: middle;\n",
              "    }\n",
              "\n",
              "    .dataframe tbody tr th {\n",
              "        vertical-align: top;\n",
              "    }\n",
              "\n",
              "    .dataframe thead th {\n",
              "        text-align: right;\n",
              "    }\n",
              "</style>\n",
              "<table border=\"1\" class=\"dataframe\">\n",
              "  <thead>\n",
              "    <tr style=\"text-align: right;\">\n",
              "      <th></th>\n",
              "      <th>neighbourhood_group</th>\n",
              "      <th>number_of_reviews</th>\n",
              "    </tr>\n",
              "  </thead>\n",
              "  <tbody>\n",
              "    <tr>\n",
              "      <th>3</th>\n",
              "      <td>Queens</td>\n",
              "      <td>629</td>\n",
              "    </tr>\n",
              "    <tr>\n",
              "      <th>2</th>\n",
              "      <td>Manhattan</td>\n",
              "      <td>607</td>\n",
              "    </tr>\n",
              "    <tr>\n",
              "      <th>1</th>\n",
              "      <td>Brooklyn</td>\n",
              "      <td>488</td>\n",
              "    </tr>\n",
              "    <tr>\n",
              "      <th>4</th>\n",
              "      <td>Staten Island</td>\n",
              "      <td>333</td>\n",
              "    </tr>\n",
              "    <tr>\n",
              "      <th>0</th>\n",
              "      <td>Bronx</td>\n",
              "      <td>321</td>\n",
              "    </tr>\n",
              "  </tbody>\n",
              "</table>\n",
              "</div>\n",
              "      <button class=\"colab-df-convert\" onclick=\"convertToInteractive('df-4223175f-c0af-49f3-a51f-03c560a103a0')\"\n",
              "              title=\"Convert this dataframe to an interactive table.\"\n",
              "              style=\"display:none;\">\n",
              "        \n",
              "  <svg xmlns=\"http://www.w3.org/2000/svg\" height=\"24px\"viewBox=\"0 0 24 24\"\n",
              "       width=\"24px\">\n",
              "    <path d=\"M0 0h24v24H0V0z\" fill=\"none\"/>\n",
              "    <path d=\"M18.56 5.44l.94 2.06.94-2.06 2.06-.94-2.06-.94-.94-2.06-.94 2.06-2.06.94zm-11 1L8.5 8.5l.94-2.06 2.06-.94-2.06-.94L8.5 2.5l-.94 2.06-2.06.94zm10 10l.94 2.06.94-2.06 2.06-.94-2.06-.94-.94-2.06-.94 2.06-2.06.94z\"/><path d=\"M17.41 7.96l-1.37-1.37c-.4-.4-.92-.59-1.43-.59-.52 0-1.04.2-1.43.59L10.3 9.45l-7.72 7.72c-.78.78-.78 2.05 0 2.83L4 21.41c.39.39.9.59 1.41.59.51 0 1.02-.2 1.41-.59l7.78-7.78 2.81-2.81c.8-.78.8-2.07 0-2.86zM5.41 20L4 18.59l7.72-7.72 1.47 1.35L5.41 20z\"/>\n",
              "  </svg>\n",
              "      </button>\n",
              "      \n",
              "  <style>\n",
              "    .colab-df-container {\n",
              "      display:flex;\n",
              "      flex-wrap:wrap;\n",
              "      gap: 12px;\n",
              "    }\n",
              "\n",
              "    .colab-df-convert {\n",
              "      background-color: #E8F0FE;\n",
              "      border: none;\n",
              "      border-radius: 50%;\n",
              "      cursor: pointer;\n",
              "      display: none;\n",
              "      fill: #1967D2;\n",
              "      height: 32px;\n",
              "      padding: 0 0 0 0;\n",
              "      width: 32px;\n",
              "    }\n",
              "\n",
              "    .colab-df-convert:hover {\n",
              "      background-color: #E2EBFA;\n",
              "      box-shadow: 0px 1px 2px rgba(60, 64, 67, 0.3), 0px 1px 3px 1px rgba(60, 64, 67, 0.15);\n",
              "      fill: #174EA6;\n",
              "    }\n",
              "\n",
              "    [theme=dark] .colab-df-convert {\n",
              "      background-color: #3B4455;\n",
              "      fill: #D2E3FC;\n",
              "    }\n",
              "\n",
              "    [theme=dark] .colab-df-convert:hover {\n",
              "      background-color: #434B5C;\n",
              "      box-shadow: 0px 1px 3px 1px rgba(0, 0, 0, 0.15);\n",
              "      filter: drop-shadow(0px 1px 2px rgba(0, 0, 0, 0.3));\n",
              "      fill: #FFFFFF;\n",
              "    }\n",
              "  </style>\n",
              "\n",
              "      <script>\n",
              "        const buttonEl =\n",
              "          document.querySelector('#df-4223175f-c0af-49f3-a51f-03c560a103a0 button.colab-df-convert');\n",
              "        buttonEl.style.display =\n",
              "          google.colab.kernel.accessAllowed ? 'block' : 'none';\n",
              "\n",
              "        async function convertToInteractive(key) {\n",
              "          const element = document.querySelector('#df-4223175f-c0af-49f3-a51f-03c560a103a0');\n",
              "          const dataTable =\n",
              "            await google.colab.kernel.invokeFunction('convertToInteractive',\n",
              "                                                     [key], {});\n",
              "          if (!dataTable) return;\n",
              "\n",
              "          const docLinkHtml = 'Like what you see? Visit the ' +\n",
              "            '<a target=\"_blank\" href=https://colab.research.google.com/notebooks/data_table.ipynb>data table notebook</a>'\n",
              "            + ' to learn more about interactive tables.';\n",
              "          element.innerHTML = '';\n",
              "          dataTable['output_type'] = 'display_data';\n",
              "          await google.colab.output.renderOutput(dataTable, element);\n",
              "          const docLink = document.createElement('div');\n",
              "          docLink.innerHTML = docLinkHtml;\n",
              "          element.appendChild(docLink);\n",
              "        }\n",
              "      </script>\n",
              "    </div>\n",
              "  </div>\n",
              "  "
            ]
          },
          "metadata": {},
          "execution_count": 84
        }
      ]
    },
    {
      "cell_type": "code",
      "source": [
        "area = areas_reviews['neighbourhood_group']\n",
        "review = areas_reviews['number_of_reviews']\n",
        "\n",
        "fig = plt.figure(figsize=(10,5))\n",
        "\n",
        "\n",
        "plt.bar(area , review , color = 'maroon', width = 0.5)\n",
        "plt.xlabel('AREA')\n",
        "plt.ylabel('REVIEW')\n",
        "plt.title('AREA VS NUMBER OF REVIEWS')\n",
        "plt.show()"
      ],
      "metadata": {
        "colab": {
          "base_uri": "https://localhost:8080/",
          "height": 350
        },
        "id": "8FmUR6BhFV1M",
        "outputId": "82dd8ccb-517a-4b24-9d73-8802c2b40b49"
      },
      "execution_count": 85,
      "outputs": [
        {
          "output_type": "display_data",
          "data": {
            "text/plain": [
              "<Figure size 720x360 with 1 Axes>"
            ],
            "image/png": "[encoded data removed]"
          },
          "metadata": {
            "needs_background": "light"
          }
        }
      ]
    },
    {
      "cell_type": "code",
      "source": [
        "price_area = df.groupby(['price'])['number_of_reviews'].max().reset_index()\n",
        "price_area.head()"
      ],
      "metadata": {
        "colab": {
          "base_uri": "https://localhost:8080/",
          "height": 206
        },
        "id": "yHGRKBqyGgNk",
        "outputId": "3c5957b5-5d50-4a5d-e246-41c936eb5c61"
      },
      "execution_count": 86,
      "outputs": [
        {
          "output_type": "execute_result",
          "data": {
            "text/plain": [
              "   price  number_of_reviews\n",
              "0      0                 95\n",
              "1     10                 93\n",
              "2     11                113\n",
              "3     12                  8\n",
              "4     13                  9"
            ],
            "text/html": [
              "\n",
              "  <div id=\"df-534f2e25-d53a-49c4-abc4-b8081703039e\">\n",
              "    <div class=\"colab-df-container\">\n",
              "      <div>\n",
              "<style scoped>\n",
              "    .dataframe tbody tr th:only-of-type {\n",
              "        vertical-align: middle;\n",
              "    }\n",
              "\n",
              "    .dataframe tbody tr th {\n",
              "        vertical-align: top;\n",
              "    }\n",
              "\n",
              "    .dataframe thead th {\n",
              "        text-align: right;\n",
              "    }\n",
              "</style>\n",
              "<table border=\"1\" class=\"dataframe\">\n",
              "  <thead>\n",
              "    <tr style=\"text-align: right;\">\n",
              "      <th></th>\n",
              "      <th>price</th>\n",
              "      <th>number_of_reviews</th>\n",
              "    </tr>\n",
              "  </thead>\n",
              "  <tbody>\n",
              "    <tr>\n",
              "      <th>0</th>\n",
              "      <td>0</td>\n",
              "      <td>95</td>\n",
              "    </tr>\n",
              "    <tr>\n",
              "      <th>1</th>\n",
              "      <td>10</td>\n",
              "      <td>93</td>\n",
              "    </tr>\n",
              "    <tr>\n",
              "      <th>2</th>\n",
              "      <td>11</td>\n",
              "      <td>113</td>\n",
              "    </tr>\n",
              "    <tr>\n",
              "      <th>3</th>\n",
              "      <td>12</td>\n",
              "      <td>8</td>\n",
              "    </tr>\n",
              "    <tr>\n",
              "      <th>4</th>\n",
              "      <td>13</td>\n",
              "      <td>9</td>\n",
              "    </tr>\n",
              "  </tbody>\n",
              "</table>\n",
              "</div>\n",
              "      <button class=\"colab-df-convert\" onclick=\"convertToInteractive('df-534f2e25-d53a-49c4-abc4-b8081703039e')\"\n",
              "              title=\"Convert this dataframe to an interactive table.\"\n",
              "              style=\"display:none;\">\n",
              "        \n",
              "  <svg xmlns=\"http://www.w3.org/2000/svg\" height=\"24px\"viewBox=\"0 0 24 24\"\n",
              "       width=\"24px\">\n",
              "    <path d=\"M0 0h24v24H0V0z\" fill=\"none\"/>\n",
              "    <path d=\"M18.56 5.44l.94 2.06.94-2.06 2.06-.94-2.06-.94-.94-2.06-.94 2.06-2.06.94zm-11 1L8.5 8.5l.94-2.06 2.06-.94-2.06-.94L8.5 2.5l-.94 2.06-2.06.94zm10 10l.94 2.06.94-2.06 2.06-.94-2.06-.94-.94-2.06-.94 2.06-2.06.94z\"/><path d=\"M17.41 7.96l-1.37-1.37c-.4-.4-.92-.59-1.43-.59-.52 0-1.04.2-1.43.59L10.3 9.45l-7.72 7.72c-.78.78-.78 2.05 0 2.83L4 21.41c.39.39.9.59 1.41.59.51 0 1.02-.2 1.41-.59l7.78-7.78 2.81-2.81c.8-.78.8-2.07 0-2.86zM5.41 20L4 18.59l7.72-7.72 1.47 1.35L5.41 20z\"/>\n",
              "  </svg>\n",
              "      </button>\n",
              "      \n",
              "  <style>\n",
              "    .colab-df-container {\n",
              "      display:flex;\n",
              "      flex-wrap:wrap;\n",
              "      gap: 12px;\n",
              "    }\n",
              "\n",
              "    .colab-df-convert {\n",
              "      background-color: #E8F0FE;\n",
              "      border: none;\n",
              "      border-radius: 50%;\n",
              "      cursor: pointer;\n",
              "      display: none;\n",
              "      fill: #1967D2;\n",
              "      height: 32px;\n",
              "      padding: 0 0 0 0;\n",
              "      width: 32px;\n",
              "    }\n",
              "\n",
              "    .colab-df-convert:hover {\n",
              "      background-color: #E2EBFA;\n",
              "      box-shadow: 0px 1px 2px rgba(60, 64, 67, 0.3), 0px 1px 3px 1px rgba(60, 64, 67, 0.15);\n",
              "      fill: #174EA6;\n",
              "    }\n",
              "\n",
              "    [theme=dark] .colab-df-convert {\n",
              "      background-color: #3B4455;\n",
              "      fill: #D2E3FC;\n",
              "    }\n",
              "\n",
              "    [theme=dark] .colab-df-convert:hover {\n",
              "      background-color: #434B5C;\n",
              "      box-shadow: 0px 1px 3px 1px rgba(0, 0, 0, 0.15);\n",
              "      filter: drop-shadow(0px 1px 2px rgba(0, 0, 0, 0.3));\n",
              "      fill: #FFFFFF;\n",
              "    }\n",
              "  </style>\n",
              "\n",
              "      <script>\n",
              "        const buttonEl =\n",
              "          document.querySelector('#df-534f2e25-d53a-49c4-abc4-b8081703039e button.colab-df-convert');\n",
              "        buttonEl.style.display =\n",
              "          google.colab.kernel.accessAllowed ? 'block' : 'none';\n",
              "\n",
              "        async function convertToInteractive(key) {\n",
              "          const element = document.querySelector('#df-534f2e25-d53a-49c4-abc4-b8081703039e');\n",
              "          const dataTable =\n",
              "            await google.colab.kernel.invokeFunction('convertToInteractive',\n",
              "                                                     [key], {});\n",
              "          if (!dataTable) return;\n",
              "\n",
              "          const docLinkHtml = 'Like what you see? Visit the ' +\n",
              "            '<a target=\"_blank\" href=https://colab.research.google.com/notebooks/data_table.ipynb>data table notebook</a>'\n",
              "            + ' to learn more about interactive tables.';\n",
              "          element.innerHTML = '';\n",
              "          dataTable['output_type'] = 'display_data';\n",
              "          await google.colab.output.renderOutput(dataTable, element);\n",
              "          const docLink = document.createElement('div');\n",
              "          docLink.innerHTML = docLinkHtml;\n",
              "          element.appendChild(docLink);\n",
              "        }\n",
              "      </script>\n",
              "    </div>\n",
              "  </div>\n",
              "  "
            ]
          },
          "metadata": {},
          "execution_count": 86
        }
      ]
    },
    {
      "cell_type": "code",
      "source": [
        "area = price_area['price']\n",
        "price = price_area['number_of_reviews']\n",
        "\n",
        "fig = plt.figure(figsize=(10,5))\n",
        "\n",
        "###plotting a graph\n",
        "\n",
        "plt.scatter(area , price , color='blue')\n",
        "\n",
        "plt.xlabel('price')\n",
        "plt.ylabel('Number of reviews')\n",
        "plt.title('PRICE VS NUMBER OF REVIEWS')\n",
        "plt.show()"
      ],
      "metadata": {
        "colab": {
          "base_uri": "https://localhost:8080/",
          "height": 350
        },
        "id": "d1ICT4lcHU1r",
        "outputId": "aaf0ff08-bf81-41ef-e42f-d6530d559e48"
      },
      "execution_count": 87,
      "outputs": [
        {
          "output_type": "display_data",
          "data": {
            "text/plain": [
              "<Figure size 720x360 with 1 Axes>"
            ],
            "image/png": "[encoded data removed]"
          },
          "metadata": {
            "needs_background": "light"
          }
        }
      ]
    },
    {
      "cell_type": "markdown",
      "source": [
        "From the above analysis we can say that most people prefer to stay in place where price is less "
      ],
      "metadata": {
        "id": "FzlDZl2xKaZk"
      }
    },
    {
      "cell_type": "markdown",
      "source": [
        "# **lets look at the distribution of the listings with availability.**"
      ],
      "metadata": {
        "id": "herLiupW-2eT"
      }
    },
    {
      "cell_type": "code",
      "source": [
        "availability_type=df.groupby(['neighbourhood_group','room_type'])['availability_365'].max().reset_index()\n",
        "availability_type=availability_type.sort_values(by='availability_365',ascending=False).head(10)\n",
        "availability_type"
      ],
      "metadata": {
        "colab": {
          "base_uri": "https://localhost:8080/",
          "height": 362
        },
        "id": "Dn4b5UhY-z1j",
        "outputId": "08f1296d-fb4a-496c-fd91-be0b917a5915"
      },
      "execution_count": 88,
      "outputs": [
        {
          "output_type": "execute_result",
          "data": {
            "text/plain": [
              "  neighbourhood_group        room_type  availability_365\n",
              "0               Bronx  Entire home/apt               365\n",
              "1               Bronx     Private room               365\n",
              "2               Bronx      Shared room               365\n",
              "3            Brooklyn  Entire home/apt               365\n",
              "4            Brooklyn     Private room               365\n",
              "5            Brooklyn      Shared room               365\n",
              "6           Manhattan  Entire home/apt               365\n",
              "7           Manhattan     Private room               365\n",
              "8           Manhattan      Shared room               365\n",
              "9              Queens  Entire home/apt               365"
            ],
            "text/html": [
              "\n",
              "  <div id=\"df-255d2077-97ab-44bd-91ee-386db8482c52\">\n",
              "    <div class=\"colab-df-container\">\n",
              "      <div>\n",
              "<style scoped>\n",
              "    .dataframe tbody tr th:only-of-type {\n",
              "        vertical-align: middle;\n",
              "    }\n",
              "\n",
              "    .dataframe tbody tr th {\n",
              "        vertical-align: top;\n",
              "    }\n",
              "\n",
              "    .dataframe thead th {\n",
              "        text-align: right;\n",
              "    }\n",
              "</style>\n",
              "<table border=\"1\" class=\"dataframe\">\n",
              "  <thead>\n",
              "    <tr style=\"text-align: right;\">\n",
              "      <th></th>\n",
              "      <th>neighbourhood_group</th>\n",
              "      <th>room_type</th>\n",
              "      <th>availability_365</th>\n",
              "    </tr>\n",
              "  </thead>\n",
              "  <tbody>\n",
              "    <tr>\n",
              "      <th>0</th>\n",
              "      <td>Bronx</td>\n",
              "      <td>Entire home/apt</td>\n",
              "      <td>365</td>\n",
              "    </tr>\n",
              "    <tr>\n",
              "      <th>1</th>\n",
              "      <td>Bronx</td>\n",
              "      <td>Private room</td>\n",
              "      <td>365</td>\n",
              "    </tr>\n",
              "    <tr>\n",
              "      <th>2</th>\n",
              "      <td>Bronx</td>\n",
              "      <td>Shared room</td>\n",
              "      <td>365</td>\n",
              "    </tr>\n",
              "    <tr>\n",
              "      <th>3</th>\n",
              "      <td>Brooklyn</td>\n",
              "      <td>Entire home/apt</td>\n",
              "      <td>365</td>\n",
              "    </tr>\n",
              "    <tr>\n",
              "      <th>4</th>\n",
              "      <td>Brooklyn</td>\n",
              "      <td>Private room</td>\n",
              "      <td>365</td>\n",
              "    </tr>\n",
              "    <tr>\n",
              "      <th>5</th>\n",
              "      <td>Brooklyn</td>\n",
              "      <td>Shared room</td>\n",
              "      <td>365</td>\n",
              "    </tr>\n",
              "    <tr>\n",
              "      <th>6</th>\n",
              "      <td>Manhattan</td>\n",
              "      <td>Entire home/apt</td>\n",
              "      <td>365</td>\n",
              "    </tr>\n",
              "    <tr>\n",
              "      <th>7</th>\n",
              "      <td>Manhattan</td>\n",
              "      <td>Private room</td>\n",
              "      <td>365</td>\n",
              "    </tr>\n",
              "    <tr>\n",
              "      <th>8</th>\n",
              "      <td>Manhattan</td>\n",
              "      <td>Shared room</td>\n",
              "      <td>365</td>\n",
              "    </tr>\n",
              "    <tr>\n",
              "      <th>9</th>\n",
              "      <td>Queens</td>\n",
              "      <td>Entire home/apt</td>\n",
              "      <td>365</td>\n",
              "    </tr>\n",
              "  </tbody>\n",
              "</table>\n",
              "</div>\n",
              "      <button class=\"colab-df-convert\" onclick=\"convertToInteractive('df-255d2077-97ab-44bd-91ee-386db8482c52')\"\n",
              "              title=\"Convert this dataframe to an interactive table.\"\n",
              "              style=\"display:none;\">\n",
              "        \n",
              "  <svg xmlns=\"http://www.w3.org/2000/svg\" height=\"24px\"viewBox=\"0 0 24 24\"\n",
              "       width=\"24px\">\n",
              "    <path d=\"M0 0h24v24H0V0z\" fill=\"none\"/>\n",
              "    <path d=\"M18.56 5.44l.94 2.06.94-2.06 2.06-.94-2.06-.94-.94-2.06-.94 2.06-2.06.94zm-11 1L8.5 8.5l.94-2.06 2.06-.94-2.06-.94L8.5 2.5l-.94 2.06-2.06.94zm10 10l.94 2.06.94-2.06 2.06-.94-2.06-.94-.94-2.06-.94 2.06-2.06.94z\"/><path d=\"M17.41 7.96l-1.37-1.37c-.4-.4-.92-.59-1.43-.59-.52 0-1.04.2-1.43.59L10.3 9.45l-7.72 7.72c-.78.78-.78 2.05 0 2.83L4 21.41c.39.39.9.59 1.41.59.51 0 1.02-.2 1.41-.59l7.78-7.78 2.81-2.81c.8-.78.8-2.07 0-2.86zM5.41 20L4 18.59l7.72-7.72 1.47 1.35L5.41 20z\"/>\n",
              "  </svg>\n",
              "      </button>\n",
              "      \n",
              "  <style>\n",
              "    .colab-df-container {\n",
              "      display:flex;\n",
              "      flex-wrap:wrap;\n",
              "      gap: 12px;\n",
              "    }\n",
              "\n",
              "    .colab-df-convert {\n",
              "      background-color: #E8F0FE;\n",
              "      border: none;\n",
              "      border-radius: 50%;\n",
              "      cursor: pointer;\n",
              "      display: none;\n",
              "      fill: #1967D2;\n",
              "      height: 32px;\n",
              "      padding: 0 0 0 0;\n",
              "      width: 32px;\n",
              "    }\n",
              "\n",
              "    .colab-df-convert:hover {\n",
              "      background-color: #E2EBFA;\n",
              "      box-shadow: 0px 1px 2px rgba(60, 64, 67, 0.3), 0px 1px 3px 1px rgba(60, 64, 67, 0.15);\n",
              "      fill: #174EA6;\n",
              "    }\n",
              "\n",
              "    [theme=dark] .colab-df-convert {\n",
              "      background-color: #3B4455;\n",
              "      fill: #D2E3FC;\n",
              "    }\n",
              "\n",
              "    [theme=dark] .colab-df-convert:hover {\n",
              "      background-color: #434B5C;\n",
              "      box-shadow: 0px 1px 3px 1px rgba(0, 0, 0, 0.15);\n",
              "      filter: drop-shadow(0px 1px 2px rgba(0, 0, 0, 0.3));\n",
              "      fill: #FFFFFF;\n",
              "    }\n",
              "  </style>\n",
              "\n",
              "      <script>\n",
              "        const buttonEl =\n",
              "          document.querySelector('#df-255d2077-97ab-44bd-91ee-386db8482c52 button.colab-df-convert');\n",
              "        buttonEl.style.display =\n",
              "          google.colab.kernel.accessAllowed ? 'block' : 'none';\n",
              "\n",
              "        async function convertToInteractive(key) {\n",
              "          const element = document.querySelector('#df-255d2077-97ab-44bd-91ee-386db8482c52');\n",
              "          const dataTable =\n",
              "            await google.colab.kernel.invokeFunction('convertToInteractive',\n",
              "                                                     [key], {});\n",
              "          if (!dataTable) return;\n",
              "\n",
              "          const docLinkHtml = 'Like what you see? Visit the ' +\n",
              "            '<a target=\"_blank\" href=https://colab.research.google.com/notebooks/data_table.ipynb>data table notebook</a>'\n",
              "            + ' to learn more about interactive tables.';\n",
              "          element.innerHTML = '';\n",
              "          dataTable['output_type'] = 'display_data';\n",
              "          await google.colab.output.renderOutput(dataTable, element);\n",
              "          const docLink = document.createElement('div');\n",
              "          docLink.innerHTML = docLinkHtml;\n",
              "          element.appendChild(docLink);\n",
              "        }\n",
              "      </script>\n",
              "    </div>\n",
              "  </div>\n",
              "  "
            ]
          },
          "metadata": {},
          "execution_count": 88
        }
      ]
    },
    {
      "cell_type": "markdown",
      "source": [
        "ax=sns.boxplot(x='neighbourhood_group',y='availability_365',data=df_air,palette"
      ],
      "metadata": {
        "id": "BDbtAssoERDd"
      }
    },
    {
      "cell_type": "code",
      "source": [
        "f,ax = plt.subplots(figsize=(10,8))\n",
        "ax=sns.boxplot(x='neighbourhood_group',y='availability_365',data=df_air,palette=\"bright\")\n",
        "plt.title(\"NEIGHBOURHOOD GROUP VS  ROOM AVAILABILITY\")\n",
        "plt.xlabel('NEIGHBOURHOOD GROUP')\n",
        "plt.ylabel('AVAILABILITY_365')\n",
        "plt.show()"
      ],
      "metadata": {
        "colab": {
          "base_uri": "https://localhost:8080/",
          "height": 513
        },
        "id": "YSnPC0TnFStt",
        "outputId": "50a94bf3-3fad-443e-e4d6-a4b0ef0d548f"
      },
      "execution_count": 89,
      "outputs": [
        {
          "output_type": "display_data",
          "data": {
            "text/plain": [
              "<Figure size 720x576 with 1 Axes>"
            ],
            "image/png": "[encoded data removed]"
          },
          "metadata": {
            "needs_background": "light"
          }
        }
      ]
    },
    {
      "cell_type": "markdown",
      "source": [
        "FROM THE ABOVE GRAPH WE CAN FIND THAT STATEN ISLAND SEEMS TO BE MORE AVAILABLE THROUGHOUT THE YEAR IT IS AVAILABLE MORE THAN 300 DAYS IN A YEAR."
      ],
      "metadata": {
        "id": "MEHbbLU8Fzao"
      }
    },
    {
      "cell_type": "markdown",
      "source": [
        "# *** WHICH HOSTS ARE THE BUSIEST AND WHY?***"
      ],
      "metadata": {
        "id": "ANccosX9JmhX"
      }
    },
    {
      "cell_type": "code",
      "source": [
        "busiest_host = df.groupby (['host_name','host_id','room_type'])['number_of_reviews'].max().reset_index()\n",
        "busiest_host=busiest_host.sort_values(by='number_of_reviews',ascending=False).head(10)\n",
        "busiest_host"
      ],
      "metadata": {
        "colab": {
          "base_uri": "https://localhost:8080/",
          "height": 362
        },
        "id": "ke2u5wu7JyoL",
        "outputId": "01b62aac-947d-4619-c0c6-91da9096629a"
      },
      "execution_count": 90,
      "outputs": [
        {
          "output_type": "execute_result",
          "data": {
            "text/plain": [
              "      host_name   host_id        room_type  number_of_reviews\n",
              "10279      Dona  47621202     Private room                629\n",
              "17708        Jj   4734398     Private room                607\n",
              "25566      Maya  37312959     Private room                543\n",
              "6235      Carol   2369681     Private room                540\n",
              "8947   Danielle  26432133     Private room                510\n",
              "3950        Asa  12949460  Entire home/apt                488\n",
              "37748     Wanda    792159     Private room                480\n",
              "22499     Linda   2680820     Private room                474\n",
              "8625       Dani     42273  Entire home/apt                467\n",
              "2942     Angela  23591164     Private room                466"
            ],
            "text/html": [
              "\n",
              "  <div id=\"df-fa32f125-c9e8-45d3-99d3-fa994ffa0f5e\">\n",
              "    <div class=\"colab-df-container\">\n",
              "      <div>\n",
              "<style scoped>\n",
              "    .dataframe tbody tr th:only-of-type {\n",
              "        vertical-align: middle;\n",
              "    }\n",
              "\n",
              "    .dataframe tbody tr th {\n",
              "        vertical-align: top;\n",
              "    }\n",
              "\n",
              "    .dataframe thead th {\n",
              "        text-align: right;\n",
              "    }\n",
              "</style>\n",
              "<table border=\"1\" class=\"dataframe\">\n",
              "  <thead>\n",
              "    <tr style=\"text-align: right;\">\n",
              "      <th></th>\n",
              "      <th>host_name</th>\n",
              "      <th>host_id</th>\n",
              "      <th>room_type</th>\n",
              "      <th>number_of_reviews</th>\n",
              "    </tr>\n",
              "  </thead>\n",
              "  <tbody>\n",
              "    <tr>\n",
              "      <th>10279</th>\n",
              "      <td>Dona</td>\n",
              "      <td>47621202</td>\n",
              "      <td>Private room</td>\n",
              "      <td>629</td>\n",
              "    </tr>\n",
              "    <tr>\n",
              "      <th>17708</th>\n",
              "      <td>Jj</td>\n",
              "      <td>4734398</td>\n",
              "      <td>Private room</td>\n",
              "      <td>607</td>\n",
              "    </tr>\n",
              "    <tr>\n",
              "      <th>25566</th>\n",
              "      <td>Maya</td>\n",
              "      <td>37312959</td>\n",
              "      <td>Private room</td>\n",
              "      <td>543</td>\n",
              "    </tr>\n",
              "    <tr>\n",
              "      <th>6235</th>\n",
              "      <td>Carol</td>\n",
              "      <td>2369681</td>\n",
              "      <td>Private room</td>\n",
              "      <td>540</td>\n",
              "    </tr>\n",
              "    <tr>\n",
              "      <th>8947</th>\n",
              "      <td>Danielle</td>\n",
              "      <td>26432133</td>\n",
              "      <td>Private room</td>\n",
              "      <td>510</td>\n",
              "    </tr>\n",
              "    <tr>\n",
              "      <th>3950</th>\n",
              "      <td>Asa</td>\n",
              "      <td>12949460</td>\n",
              "      <td>Entire home/apt</td>\n",
              "      <td>488</td>\n",
              "    </tr>\n",
              "    <tr>\n",
              "      <th>37748</th>\n",
              "      <td>Wanda</td>\n",
              "      <td>792159</td>\n",
              "      <td>Private room</td>\n",
              "      <td>480</td>\n",
              "    </tr>\n",
              "    <tr>\n",
              "      <th>22499</th>\n",
              "      <td>Linda</td>\n",
              "      <td>2680820</td>\n",
              "      <td>Private room</td>\n",
              "      <td>474</td>\n",
              "    </tr>\n",
              "    <tr>\n",
              "      <th>8625</th>\n",
              "      <td>Dani</td>\n",
              "      <td>42273</td>\n",
              "      <td>Entire home/apt</td>\n",
              "      <td>467</td>\n",
              "    </tr>\n",
              "    <tr>\n",
              "      <th>2942</th>\n",
              "      <td>Angela</td>\n",
              "      <td>23591164</td>\n",
              "      <td>Private room</td>\n",
              "      <td>466</td>\n",
              "    </tr>\n",
              "  </tbody>\n",
              "</table>\n",
              "</div>\n",
              "      <button class=\"colab-df-convert\" onclick=\"convertToInteractive('df-fa32f125-c9e8-45d3-99d3-fa994ffa0f5e')\"\n",
              "              title=\"Convert this dataframe to an interactive table.\"\n",
              "              style=\"display:none;\">\n",
              "        \n",
              "  <svg xmlns=\"http://www.w3.org/2000/svg\" height=\"24px\"viewBox=\"0 0 24 24\"\n",
              "       width=\"24px\">\n",
              "    <path d=\"M0 0h24v24H0V0z\" fill=\"none\"/>\n",
              "    <path d=\"M18.56 5.44l.94 2.06.94-2.06 2.06-.94-2.06-.94-.94-2.06-.94 2.06-2.06.94zm-11 1L8.5 8.5l.94-2.06 2.06-.94-2.06-.94L8.5 2.5l-.94 2.06-2.06.94zm10 10l.94 2.06.94-2.06 2.06-.94-2.06-.94-.94-2.06-.94 2.06-2.06.94z\"/><path d=\"M17.41 7.96l-1.37-1.37c-.4-.4-.92-.59-1.43-.59-.52 0-1.04.2-1.43.59L10.3 9.45l-7.72 7.72c-.78.78-.78 2.05 0 2.83L4 21.41c.39.39.9.59 1.41.59.51 0 1.02-.2 1.41-.59l7.78-7.78 2.81-2.81c.8-.78.8-2.07 0-2.86zM5.41 20L4 18.59l7.72-7.72 1.47 1.35L5.41 20z\"/>\n",
              "  </svg>\n",
              "      </button>\n",
              "      \n",
              "  <style>\n",
              "    .colab-df-container {\n",
              "      display:flex;\n",
              "      flex-wrap:wrap;\n",
              "      gap: 12px;\n",
              "    }\n",
              "\n",
              "    .colab-df-convert {\n",
              "      background-color: #E8F0FE;\n",
              "      border: none;\n",
              "      border-radius: 50%;\n",
              "      cursor: pointer;\n",
              "      display: none;\n",
              "      fill: #1967D2;\n",
              "      height: 32px;\n",
              "      padding: 0 0 0 0;\n",
              "      width: 32px;\n",
              "    }\n",
              "\n",
              "    .colab-df-convert:hover {\n",
              "      background-color: #E2EBFA;\n",
              "      box-shadow: 0px 1px 2px rgba(60, 64, 67, 0.3), 0px 1px 3px 1px rgba(60, 64, 67, 0.15);\n",
              "      fill: #174EA6;\n",
              "    }\n",
              "\n",
              "    [theme=dark] .colab-df-convert {\n",
              "      background-color: #3B4455;\n",
              "      fill: #D2E3FC;\n",
              "    }\n",
              "\n",
              "    [theme=dark] .colab-df-convert:hover {\n",
              "      background-color: #434B5C;\n",
              "      box-shadow: 0px 1px 3px 1px rgba(0, 0, 0, 0.15);\n",
              "      filter: drop-shadow(0px 1px 2px rgba(0, 0, 0, 0.3));\n",
              "      fill: #FFFFFF;\n",
              "    }\n",
              "  </style>\n",
              "\n",
              "      <script>\n",
              "        const buttonEl =\n",
              "          document.querySelector('#df-fa32f125-c9e8-45d3-99d3-fa994ffa0f5e button.colab-df-convert');\n",
              "        buttonEl.style.display =\n",
              "          google.colab.kernel.accessAllowed ? 'block' : 'none';\n",
              "\n",
              "        async function convertToInteractive(key) {\n",
              "          const element = document.querySelector('#df-fa32f125-c9e8-45d3-99d3-fa994ffa0f5e');\n",
              "          const dataTable =\n",
              "            await google.colab.kernel.invokeFunction('convertToInteractive',\n",
              "                                                     [key], {});\n",
              "          if (!dataTable) return;\n",
              "\n",
              "          const docLinkHtml = 'Like what you see? Visit the ' +\n",
              "            '<a target=\"_blank\" href=https://colab.research.google.com/notebooks/data_table.ipynb>data table notebook</a>'\n",
              "            + ' to learn more about interactive tables.';\n",
              "          element.innerHTML = '';\n",
              "          dataTable['output_type'] = 'display_data';\n",
              "          await google.colab.output.renderOutput(dataTable, element);\n",
              "          const docLink = document.createElement('div');\n",
              "          docLink.innerHTML = docLinkHtml;\n",
              "          element.appendChild(docLink);\n",
              "        }\n",
              "      </script>\n",
              "    </div>\n",
              "  </div>\n",
              "  "
            ]
          },
          "metadata": {},
          "execution_count": 90
        }
      ]
    },
    {
      "cell_type": "code",
      "source": [
        "name = busiest_host['host_name']\n",
        "reviews = busiest_host['number_of_reviews']\n",
        "\n",
        "fig = plt.figure(figsize = (10,5))\n",
        "\n",
        "#creating bar graph  \n",
        "\n",
        "plt.bar(name , reviews , color = 'maroon' , width =0.5)\n",
        "\n",
        "plt.xlabel('NAME OF THE HOST')\n",
        "plt.ylabel('NUMBER OF REVIEWS')\n",
        "plt.title('BUSIEST HOSTS')\n",
        "plt.show()"
      ],
      "metadata": {
        "id": "KQ4X9JLiKjKu",
        "colab": {
          "base_uri": "https://localhost:8080/",
          "height": 350
        },
        "outputId": "830ac54e-4f52-4dca-bbda-6faefbcee1b6"
      },
      "execution_count": 91,
      "outputs": [
        {
          "output_type": "display_data",
          "data": {
            "text/plain": [
              "<Figure size 720x360 with 1 Axes>"
            ],
            "image/png": "[encoded data removed]"
          },
          "metadata": {
            "needs_background": "light"
          }
        }
      ]
    },
    {
      "cell_type": "markdown",
      "source": [
        "FROM THE ABOVE ANALYSIS WE CAN FIGURE OUT THAT THE BUSIEST HOSTS ARE \n",
        "DONA , JI, MAYA, CAROL, DANIELLE\n",
        "\n",
        "DONA is the most reviewed host with more thean 600 reviews .so  we can undersatand that dona is the most busiest host .\n",
        "\n",
        "also most preferred room type is private room and entire room \n"
      ],
      "metadata": {
        "id": "z-daXZVedP9t"
      }
    },
    {
      "cell_type": "markdown",
      "source": [
        "\n",
        "# **Traffic among different areas , reasons behind it**\n",
        "\n",
        "Here we are checking the number of people visited in different neighbourhood \n",
        "\n"
      ],
      "metadata": {
        "id": "foKFEBAAn4YK"
      }
    },
    {
      "cell_type": "markdown",
      "source": [
        "first analyse with \n",
        "no of reviews and neighbourhood groups\n",
        "```\n",
        "\n",
        "```\n",
        "\n"
      ],
      "metadata": {
        "id": "Rn0HnGBOp2GE"
      }
    },
    {
      "cell_type": "code",
      "source": [
        "most_reviewed = df.groupby(['neighbourhood_group'])['number_of_reviews'].sum().reset_index()\n",
        "most_reviewed.sort_values(by='number_of_reviews',ascending =False).head(10)"
      ],
      "metadata": {
        "colab": {
          "base_uri": "https://localhost:8080/",
          "height": 206
        },
        "id": "KOkezHFcpScr",
        "outputId": "ee776f81-2d77-4f74-f129-4fd75abe6e2e"
      },
      "execution_count": 92,
      "outputs": [
        {
          "output_type": "execute_result",
          "data": {
            "text/plain": [
              "  neighbourhood_group  number_of_reviews\n",
              "1            Brooklyn             486574\n",
              "2           Manhattan             454569\n",
              "3              Queens             156950\n",
              "0               Bronx              28371\n",
              "4       Staten Island              11541"
            ],
            "text/html": [
              "\n",
              "  <div id=\"df-4bbee52c-696c-4ed4-802a-4b19d9abbaeb\">\n",
              "    <div class=\"colab-df-container\">\n",
              "      <div>\n",
              "<style scoped>\n",
              "    .dataframe tbody tr th:only-of-type {\n",
              "        vertical-align: middle;\n",
              "    }\n",
              "\n",
              "    .dataframe tbody tr th {\n",
              "        vertical-align: top;\n",
              "    }\n",
              "\n",
              "    .dataframe thead th {\n",
              "        text-align: right;\n",
              "    }\n",
              "</style>\n",
              "<table border=\"1\" class=\"dataframe\">\n",
              "  <thead>\n",
              "    <tr style=\"text-align: right;\">\n",
              "      <th></th>\n",
              "      <th>neighbourhood_group</th>\n",
              "      <th>number_of_reviews</th>\n",
              "    </tr>\n",
              "  </thead>\n",
              "  <tbody>\n",
              "    <tr>\n",
              "      <th>1</th>\n",
              "      <td>Brooklyn</td>\n",
              "      <td>486574</td>\n",
              "    </tr>\n",
              "    <tr>\n",
              "      <th>2</th>\n",
              "      <td>Manhattan</td>\n",
              "      <td>454569</td>\n",
              "    </tr>\n",
              "    <tr>\n",
              "      <th>3</th>\n",
              "      <td>Queens</td>\n",
              "      <td>156950</td>\n",
              "    </tr>\n",
              "    <tr>\n",
              "      <th>0</th>\n",
              "      <td>Bronx</td>\n",
              "      <td>28371</td>\n",
              "    </tr>\n",
              "    <tr>\n",
              "      <th>4</th>\n",
              "      <td>Staten Island</td>\n",
              "      <td>11541</td>\n",
              "    </tr>\n",
              "  </tbody>\n",
              "</table>\n",
              "</div>\n",
              "      <button class=\"colab-df-convert\" onclick=\"convertToInteractive('df-4bbee52c-696c-4ed4-802a-4b19d9abbaeb')\"\n",
              "              title=\"Convert this dataframe to an interactive table.\"\n",
              "              style=\"display:none;\">\n",
              "        \n",
              "  <svg xmlns=\"http://www.w3.org/2000/svg\" height=\"24px\"viewBox=\"0 0 24 24\"\n",
              "       width=\"24px\">\n",
              "    <path d=\"M0 0h24v24H0V0z\" fill=\"none\"/>\n",
              "    <path d=\"M18.56 5.44l.94 2.06.94-2.06 2.06-.94-2.06-.94-.94-2.06-.94 2.06-2.06.94zm-11 1L8.5 8.5l.94-2.06 2.06-.94-2.06-.94L8.5 2.5l-.94 2.06-2.06.94zm10 10l.94 2.06.94-2.06 2.06-.94-2.06-.94-.94-2.06-.94 2.06-2.06.94z\"/><path d=\"M17.41 7.96l-1.37-1.37c-.4-.4-.92-.59-1.43-.59-.52 0-1.04.2-1.43.59L10.3 9.45l-7.72 7.72c-.78.78-.78 2.05 0 2.83L4 21.41c.39.39.9.59 1.41.59.51 0 1.02-.2 1.41-.59l7.78-7.78 2.81-2.81c.8-.78.8-2.07 0-2.86zM5.41 20L4 18.59l7.72-7.72 1.47 1.35L5.41 20z\"/>\n",
              "  </svg>\n",
              "      </button>\n",
              "      \n",
              "  <style>\n",
              "    .colab-df-container {\n",
              "      display:flex;\n",
              "      flex-wrap:wrap;\n",
              "      gap: 12px;\n",
              "    }\n",
              "\n",
              "    .colab-df-convert {\n",
              "      background-color: #E8F0FE;\n",
              "      border: none;\n",
              "      border-radius: 50%;\n",
              "      cursor: pointer;\n",
              "      display: none;\n",
              "      fill: #1967D2;\n",
              "      height: 32px;\n",
              "      padding: 0 0 0 0;\n",
              "      width: 32px;\n",
              "    }\n",
              "\n",
              "    .colab-df-convert:hover {\n",
              "      background-color: #E2EBFA;\n",
              "      box-shadow: 0px 1px 2px rgba(60, 64, 67, 0.3), 0px 1px 3px 1px rgba(60, 64, 67, 0.15);\n",
              "      fill: #174EA6;\n",
              "    }\n",
              "\n",
              "    [theme=dark] .colab-df-convert {\n",
              "      background-color: #3B4455;\n",
              "      fill: #D2E3FC;\n",
              "    }\n",
              "\n",
              "    [theme=dark] .colab-df-convert:hover {\n",
              "      background-color: #434B5C;\n",
              "      box-shadow: 0px 1px 3px 1px rgba(0, 0, 0, 0.15);\n",
              "      filter: drop-shadow(0px 1px 2px rgba(0, 0, 0, 0.3));\n",
              "      fill: #FFFFFF;\n",
              "    }\n",
              "  </style>\n",
              "\n",
              "      <script>\n",
              "        const buttonEl =\n",
              "          document.querySelector('#df-4bbee52c-696c-4ed4-802a-4b19d9abbaeb button.colab-df-convert');\n",
              "        buttonEl.style.display =\n",
              "          google.colab.kernel.accessAllowed ? 'block' : 'none';\n",
              "\n",
              "        async function convertToInteractive(key) {\n",
              "          const element = document.querySelector('#df-4bbee52c-696c-4ed4-802a-4b19d9abbaeb');\n",
              "          const dataTable =\n",
              "            await google.colab.kernel.invokeFunction('convertToInteractive',\n",
              "                                                     [key], {});\n",
              "          if (!dataTable) return;\n",
              "\n",
              "          const docLinkHtml = 'Like what you see? Visit the ' +\n",
              "            '<a target=\"_blank\" href=https://colab.research.google.com/notebooks/data_table.ipynb>data table notebook</a>'\n",
              "            + ' to learn more about interactive tables.';\n",
              "          element.innerHTML = '';\n",
              "          dataTable['output_type'] = 'display_data';\n",
              "          await google.colab.output.renderOutput(dataTable, element);\n",
              "          const docLink = document.createElement('div');\n",
              "          docLink.innerHTML = docLinkHtml;\n",
              "          element.appendChild(docLink);\n",
              "        }\n",
              "      </script>\n",
              "    </div>\n",
              "  </div>\n",
              "  "
            ]
          },
          "metadata": {},
          "execution_count": 92
        }
      ]
    },
    {
      "cell_type": "code",
      "source": [
        "traffic_areas = df.groupby(['neighbourhood_group','room_type'])['minimum_nights'].count().reset_index()\n",
        "traffic_areas = traffic_areas.sort_values(by='minimum_nights', ascending=False)\n",
        "traffic_areas                                    "
      ],
      "metadata": {
        "colab": {
          "base_uri": "https://localhost:8080/",
          "height": 520
        },
        "id": "7OFFGGNLp00F",
        "outputId": "4367376f-ea41-40fd-d3a1-6e341c7c58d9"
      },
      "execution_count": 93,
      "outputs": [
        {
          "output_type": "execute_result",
          "data": {
            "text/plain": [
              "   neighbourhood_group        room_type  minimum_nights\n",
              "6            Manhattan  Entire home/apt           13199\n",
              "4             Brooklyn     Private room           10132\n",
              "3             Brooklyn  Entire home/apt            9559\n",
              "7            Manhattan     Private room            7982\n",
              "10              Queens     Private room            3372\n",
              "9               Queens  Entire home/apt            2096\n",
              "1                Bronx     Private room             652\n",
              "8            Manhattan      Shared room             480\n",
              "5             Brooklyn      Shared room             413\n",
              "0                Bronx  Entire home/apt             379\n",
              "11              Queens      Shared room             198\n",
              "13       Staten Island     Private room             188\n",
              "12       Staten Island  Entire home/apt             176\n",
              "2                Bronx      Shared room              60\n",
              "14       Staten Island      Shared room               9"
            ],
            "text/html": [
              "\n",
              "  <div id=\"df-5e66a22d-30d9-4cd0-a5d4-98000b6f755e\">\n",
              "    <div class=\"colab-df-container\">\n",
              "      <div>\n",
              "<style scoped>\n",
              "    .dataframe tbody tr th:only-of-type {\n",
              "        vertical-align: middle;\n",
              "    }\n",
              "\n",
              "    .dataframe tbody tr th {\n",
              "        vertical-align: top;\n",
              "    }\n",
              "\n",
              "    .dataframe thead th {\n",
              "        text-align: right;\n",
              "    }\n",
              "</style>\n",
              "<table border=\"1\" class=\"dataframe\">\n",
              "  <thead>\n",
              "    <tr style=\"text-align: right;\">\n",
              "      <th></th>\n",
              "      <th>neighbourhood_group</th>\n",
              "      <th>room_type</th>\n",
              "      <th>minimum_nights</th>\n",
              "    </tr>\n",
              "  </thead>\n",
              "  <tbody>\n",
              "    <tr>\n",
              "      <th>6</th>\n",
              "      <td>Manhattan</td>\n",
              "      <td>Entire home/apt</td>\n",
              "      <td>13199</td>\n",
              "    </tr>\n",
              "    <tr>\n",
              "      <th>4</th>\n",
              "      <td>Brooklyn</td>\n",
              "      <td>Private room</td>\n",
              "      <td>10132</td>\n",
              "    </tr>\n",
              "    <tr>\n",
              "      <th>3</th>\n",
              "      <td>Brooklyn</td>\n",
              "      <td>Entire home/apt</td>\n",
              "      <td>9559</td>\n",
              "    </tr>\n",
              "    <tr>\n",
              "      <th>7</th>\n",
              "      <td>Manhattan</td>\n",
              "      <td>Private room</td>\n",
              "      <td>7982</td>\n",
              "    </tr>\n",
              "    <tr>\n",
              "      <th>10</th>\n",
              "      <td>Queens</td>\n",
              "      <td>Private room</td>\n",
              "      <td>3372</td>\n",
              "    </tr>\n",
              "    <tr>\n",
              "      <th>9</th>\n",
              "      <td>Queens</td>\n",
              "      <td>Entire home/apt</td>\n",
              "      <td>2096</td>\n",
              "    </tr>\n",
              "    <tr>\n",
              "      <th>1</th>\n",
              "      <td>Bronx</td>\n",
              "      <td>Private room</td>\n",
              "      <td>652</td>\n",
              "    </tr>\n",
              "    <tr>\n",
              "      <th>8</th>\n",
              "      <td>Manhattan</td>\n",
              "      <td>Shared room</td>\n",
              "      <td>480</td>\n",
              "    </tr>\n",
              "    <tr>\n",
              "      <th>5</th>\n",
              "      <td>Brooklyn</td>\n",
              "      <td>Shared room</td>\n",
              "      <td>413</td>\n",
              "    </tr>\n",
              "    <tr>\n",
              "      <th>0</th>\n",
              "      <td>Bronx</td>\n",
              "      <td>Entire home/apt</td>\n",
              "      <td>379</td>\n",
              "    </tr>\n",
              "    <tr>\n",
              "      <th>11</th>\n",
              "      <td>Queens</td>\n",
              "      <td>Shared room</td>\n",
              "      <td>198</td>\n",
              "    </tr>\n",
              "    <tr>\n",
              "      <th>13</th>\n",
              "      <td>Staten Island</td>\n",
              "      <td>Private room</td>\n",
              "      <td>188</td>\n",
              "    </tr>\n",
              "    <tr>\n",
              "      <th>12</th>\n",
              "      <td>Staten Island</td>\n",
              "      <td>Entire home/apt</td>\n",
              "      <td>176</td>\n",
              "    </tr>\n",
              "    <tr>\n",
              "      <th>2</th>\n",
              "      <td>Bronx</td>\n",
              "      <td>Shared room</td>\n",
              "      <td>60</td>\n",
              "    </tr>\n",
              "    <tr>\n",
              "      <th>14</th>\n",
              "      <td>Staten Island</td>\n",
              "      <td>Shared room</td>\n",
              "      <td>9</td>\n",
              "    </tr>\n",
              "  </tbody>\n",
              "</table>\n",
              "</div>\n",
              "      <button class=\"colab-df-convert\" onclick=\"convertToInteractive('df-5e66a22d-30d9-4cd0-a5d4-98000b6f755e')\"\n",
              "              title=\"Convert this dataframe to an interactive table.\"\n",
              "              style=\"display:none;\">\n",
              "        \n",
              "  <svg xmlns=\"http://www.w3.org/2000/svg\" height=\"24px\"viewBox=\"0 0 24 24\"\n",
              "       width=\"24px\">\n",
              "    <path d=\"M0 0h24v24H0V0z\" fill=\"none\"/>\n",
              "    <path d=\"M18.56 5.44l.94 2.06.94-2.06 2.06-.94-2.06-.94-.94-2.06-.94 2.06-2.06.94zm-11 1L8.5 8.5l.94-2.06 2.06-.94-2.06-.94L8.5 2.5l-.94 2.06-2.06.94zm10 10l.94 2.06.94-2.06 2.06-.94-2.06-.94-.94-2.06-.94 2.06-2.06.94z\"/><path d=\"M17.41 7.96l-1.37-1.37c-.4-.4-.92-.59-1.43-.59-.52 0-1.04.2-1.43.59L10.3 9.45l-7.72 7.72c-.78.78-.78 2.05 0 2.83L4 21.41c.39.39.9.59 1.41.59.51 0 1.02-.2 1.41-.59l7.78-7.78 2.81-2.81c.8-.78.8-2.07 0-2.86zM5.41 20L4 18.59l7.72-7.72 1.47 1.35L5.41 20z\"/>\n",
              "  </svg>\n",
              "      </button>\n",
              "      \n",
              "  <style>\n",
              "    .colab-df-container {\n",
              "      display:flex;\n",
              "      flex-wrap:wrap;\n",
              "      gap: 12px;\n",
              "    }\n",
              "\n",
              "    .colab-df-convert {\n",
              "      background-color: #E8F0FE;\n",
              "      border: none;\n",
              "      border-radius: 50%;\n",
              "      cursor: pointer;\n",
              "      display: none;\n",
              "      fill: #1967D2;\n",
              "      height: 32px;\n",
              "      padding: 0 0 0 0;\n",
              "      width: 32px;\n",
              "    }\n",
              "\n",
              "    .colab-df-convert:hover {\n",
              "      background-color: #E2EBFA;\n",
              "      box-shadow: 0px 1px 2px rgba(60, 64, 67, 0.3), 0px 1px 3px 1px rgba(60, 64, 67, 0.15);\n",
              "      fill: #174EA6;\n",
              "    }\n",
              "\n",
              "    [theme=dark] .colab-df-convert {\n",
              "      background-color: #3B4455;\n",
              "      fill: #D2E3FC;\n",
              "    }\n",
              "\n",
              "    [theme=dark] .colab-df-convert:hover {\n",
              "      background-color: #434B5C;\n",
              "      box-shadow: 0px 1px 3px 1px rgba(0, 0, 0, 0.15);\n",
              "      filter: drop-shadow(0px 1px 2px rgba(0, 0, 0, 0.3));\n",
              "      fill: #FFFFFF;\n",
              "    }\n",
              "  </style>\n",
              "\n",
              "      <script>\n",
              "        const buttonEl =\n",
              "          document.querySelector('#df-5e66a22d-30d9-4cd0-a5d4-98000b6f755e button.colab-df-convert');\n",
              "        buttonEl.style.display =\n",
              "          google.colab.kernel.accessAllowed ? 'block' : 'none';\n",
              "\n",
              "        async function convertToInteractive(key) {\n",
              "          const element = document.querySelector('#df-5e66a22d-30d9-4cd0-a5d4-98000b6f755e');\n",
              "          const dataTable =\n",
              "            await google.colab.kernel.invokeFunction('convertToInteractive',\n",
              "                                                     [key], {});\n",
              "          if (!dataTable) return;\n",
              "\n",
              "          const docLinkHtml = 'Like what you see? Visit the ' +\n",
              "            '<a target=\"_blank\" href=https://colab.research.google.com/notebooks/data_table.ipynb>data table notebook</a>'\n",
              "            + ' to learn more about interactive tables.';\n",
              "          element.innerHTML = '';\n",
              "          dataTable['output_type'] = 'display_data';\n",
              "          await google.colab.output.renderOutput(dataTable, element);\n",
              "          const docLink = document.createElement('div');\n",
              "          docLink.innerHTML = docLinkHtml;\n",
              "          element.appendChild(docLink);\n",
              "        }\n",
              "      </script>\n",
              "    </div>\n",
              "  </div>\n",
              "  "
            ]
          },
          "metadata": {},
          "execution_count": 93
        }
      ]
    },
    {
      "cell_type": "code",
      "source": [
        "room_type = traffic_areas['room_type']\n",
        "stay=traffic_areas['minimum_nights']\n",
        "\n",
        "fig = plt.figure(figsize=(10,5))\n",
        "\n",
        "#cretting bar graph\n",
        "plt.bar(room_type,stay, color='maroon',width = 0.5)\n",
        "\n",
        "plt.xlabel('ROOM TYPE')\n",
        "plt.ylabel('MINIMUM NUMBER OF NIGHTS STAYED')\n",
        "plt.title('TRAFFIC AREAS')\n",
        "plt.show()"
      ],
      "metadata": {
        "colab": {
          "base_uri": "https://localhost:8080/",
          "height": 350
        },
        "id": "iNUbTTLDdjw4",
        "outputId": "bc4f3673-d9a4-4cb1-b514-e4fbb2a85dc2"
      },
      "execution_count": 94,
      "outputs": [
        {
          "output_type": "display_data",
          "data": {
            "text/plain": [
              "<Figure size 720x360 with 1 Axes>"
            ],
            "image/png": "[encoded data removed]"
          },
          "metadata": {
            "needs_background": "light"
          }
        }
      ]
    },
    {
      "cell_type": "markdown",
      "source": [
        "from this graph  we can analys that most  people prefer entire home/apt and then private room which are in manhattan ,queens ,brooklyn"
      ],
      "metadata": {
        "id": "acV7RwNSGxqE"
      }
    },
    {
      "cell_type": "markdown",
      "source": [
        "# **now just find how many nights people stayed in each neighbourhood group**"
      ],
      "metadata": {
        "id": "tpwQ1ByK-rd3"
      }
    },
    {
      "cell_type": "code",
      "source": [
        "# min_night= df_air['neighbourhood_group']\n",
        "df_air.groupby('neighbourhood_group')['minimum_nights'].mean().plot(kind='barh',color='maroon')\n",
        "plt.title('Min Stays in different neighbourhood_group listed on Airbnb ')\n",
        "plt.xlabel('neighbourhood_group')\n",
        "plt.ylabel('Min Stays')"
      ],
      "metadata": {
        "colab": {
          "base_uri": "https://localhost:8080/",
          "height": 368
        },
        "id": "yXc94kO7_I6v",
        "outputId": "a9f136a0-fc01-46d9-d580-2213663cbcf9"
      },
      "execution_count": 95,
      "outputs": [
        {
          "output_type": "execute_result",
          "data": {
            "text/plain": [
              "Text(0, 0.5, 'Min Stays')"
            ]
          },
          "metadata": {},
          "execution_count": 95
        },
        {
          "output_type": "display_data",
          "data": {
            "text/plain": [
              "<Figure size 720x360 with 1 Axes>"
            ],
            "image/png": "[encoded data removed]"
          },
          "metadata": {
            "needs_background": "light"
          }
        }
      ]
    },
    {
      "cell_type": "markdown",
      "source": [
        "from this observations people mostly living in manhattan on an average of more than 8 nights followed by guests who stayed in  brooklyn where average stay is 6 nights . so  we figure out that most people prefer to stay in manhattan ."
      ],
      "metadata": {
        "id": "d_Z02U4vAAVM"
      }
    },
    {
      "cell_type": "markdown",
      "source": [
        "# **Conclusion:**\n",
        "\n",
        "\n",
        "# 1. The people who prefer to stay in Entire home or Apartment they are going to stay bit longer in that particular Neighbourhood only.\n",
        "\n",
        "# 2. The people who prefer to stay in Private room they won't stay longer as compared to Home or Apartment.. \n",
        "\n",
        "# 3. Most visitors don't prefer shared rooms, they tend to visit private room or entire home.\n",
        "\n",
        "\n",
        "# 4. Most people prefer to pay less price.\n",
        "\n",
        "# 5. If there are more number of Reviews for particular Neighbourhood group that means that place is a tourist place.\n",
        "\n",
        "# 6. If people are not staying more then one night means they are travellers. \n",
        "\n",
        "# 7.Manhattan and Brooklyn are the two distinguished, expensive & posh areas of NYC"
      ],
      "metadata": {
        "id": "wRhqtFVFArUH"
      }
    },
    {
      "cell_type": "markdown",
      "source": [
        "![ank u.jpg](data:image/jpeg;base64,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)"
      ],
      "metadata": {
        "id": "D3MGYsMSVGHU"
      }
    }
  ]
}